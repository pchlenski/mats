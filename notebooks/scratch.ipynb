{
 "cells": [
  {
   "cell_type": "code",
   "execution_count": 2,
   "metadata": {},
   "outputs": [],
   "source": [
    "from sprint.loading import load_model"
   ]
  },
  {
   "cell_type": "code",
   "execution_count": 3,
   "metadata": {},
   "outputs": [
    {
     "name": "stdout",
     "output_type": "stream",
     "text": [
      "Loaded pretrained model gelu-1l into HookedTransformer\n",
      "Moving model to device:  cuda\n",
      "Changing model dtype to torch.float16\n",
      "Model device: cuda:0\n"
     ]
    }
   ],
   "source": [
    "model = load_model()"
   ]
  },
  {
   "cell_type": "code",
   "execution_count": 4,
   "metadata": {},
   "outputs": [
    {
     "data": {
      "text/plain": [
       "torch.Size([48262, 512])"
      ]
     },
     "execution_count": 4,
     "metadata": {},
     "output_type": "execute_result"
    }
   ],
   "source": [
    "model.W_E.shape"
   ]
  },
  {
   "cell_type": "code",
   "execution_count": 5,
   "metadata": {},
   "outputs": [
    {
     "name": "stdout",
     "output_type": "stream",
     "text": [
      "{'batch_size': 4096,\n",
      " 'beta1': 0.9,\n",
      " 'beta2': 0.99,\n",
      " 'buffer_batches': 12288,\n",
      " 'buffer_mult': 384,\n",
      " 'buffer_size': 1572864,\n",
      " 'd_mlp': 2048,\n",
      " 'dict_mult': 8,\n",
      " 'enc_dtype': 'fp32',\n",
      " 'l1_coeff': 0.0003,\n",
      " 'lr': 0.0001,\n",
      " 'model_batch_size': 512,\n",
      " 'num_tokens': 2000000000,\n",
      " 'seed': 52,\n",
      " 'seq_len': 128}\n",
      "Encoder device: cuda:0\n"
     ]
    }
   ],
   "source": [
    "from sprint.loading import load_sae\n",
    "\n",
    "sae = load_sae()"
   ]
  },
  {
   "cell_type": "code",
   "execution_count": 6,
   "metadata": {},
   "outputs": [
    {
     "data": {
      "text/plain": [
       "Parameter containing:\n",
       "tensor([[ 0.0236,  0.0258,  0.0368,  ..., -0.0038,  0.0019,  0.0328],\n",
       "        [ 0.0544,  0.0569,  0.0762,  ..., -0.0279, -0.0444,  0.0822],\n",
       "        [ 0.0708,  0.0739,  0.0848,  ...,  0.0178, -0.0385,  0.1089],\n",
       "        ...,\n",
       "        [ 0.1078,  0.1524,  0.1209,  ..., -0.0123,  0.0174,  0.1781],\n",
       "        [-0.0184, -0.0424, -0.0188,  ..., -0.0095,  0.0281, -0.0219],\n",
       "        [ 0.0281,  0.0417,  0.0677,  ..., -0.0046, -0.0456,  0.0664]],\n",
       "       device='cuda:0', requires_grad=True)"
      ]
     },
     "execution_count": 6,
     "metadata": {},
     "output_type": "execute_result"
    }
   ],
   "source": [
    "sae.W_enc"
   ]
  },
  {
   "cell_type": "code",
   "execution_count": 7,
   "metadata": {},
   "outputs": [
    {
     "data": {
      "text/plain": [
       "Parameter containing:\n",
       "tensor([[ 0.1203,  0.0064,  0.0394,  ...,  0.0082,  0.0230,  0.0119],\n",
       "        [-0.0442,  0.0203,  0.0384,  ..., -0.0601,  0.0098,  0.0657],\n",
       "        [-0.0243, -0.0416, -0.0285,  ...,  0.0682,  0.0181,  0.0417],\n",
       "        ...,\n",
       "        [ 0.0351, -0.0409,  0.0095,  ..., -0.0118,  0.0429, -0.0295],\n",
       "        [ 0.0246, -0.0317, -0.0045,  ..., -0.0002, -0.0299, -0.0293],\n",
       "        [-0.0495, -0.0162, -0.0167,  ..., -0.0377, -0.0259, -0.0249]],\n",
       "       device='cuda:0', requires_grad=True)"
      ]
     },
     "execution_count": 7,
     "metadata": {},
     "output_type": "execute_result"
    }
   ],
   "source": [
    "sae.W_dec"
   ]
  },
  {
   "cell_type": "code",
   "execution_count": null,
   "metadata": {},
   "outputs": [],
   "source": []
  }
 ],
 "metadata": {
  "kernelspec": {
   "display_name": "sprint",
   "language": "python",
   "name": "python3"
  },
  "language_info": {
   "codemirror_mode": {
    "name": "ipython",
    "version": 3
   },
   "file_extension": ".py",
   "mimetype": "text/x-python",
   "name": "python",
   "nbconvert_exporter": "python",
   "pygments_lexer": "ipython3",
   "version": "3.10.0"
  }
 },
 "nbformat": 4,
 "nbformat_minor": 2
}
