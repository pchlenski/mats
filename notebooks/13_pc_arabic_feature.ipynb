{
 "cells": [
  {
   "cell_type": "code",
   "execution_count": 1,
   "metadata": {},
   "outputs": [],
   "source": [
    "%load_ext autoreload\n",
    "%autoreload 2"
   ]
  },
  {
   "cell_type": "code",
   "execution_count": 3,
   "metadata": {},
   "outputs": [
    {
     "name": "stdout",
     "output_type": "stream",
     "text": [
      "Loaded pretrained model gelu-1l into HookedTransformer\n",
      "Moving model to device:  cuda\n",
      "Changing model dtype to torch.float16\n",
      "Model device: cuda:0\n",
      "Tokens shape: torch.Size([215402, 128]), dtype: torch.int64, device: cuda:0\n",
      "Loading run1 from HuggingFace at 25\n",
      "{'batch_size': 4096,\n",
      " 'beta1': 0.9,\n",
      " 'beta2': 0.99,\n",
      " 'buffer_batches': 12288,\n",
      " 'buffer_mult': 384,\n",
      " 'buffer_size': 1572864,\n",
      " 'd_mlp': 2048,\n",
      " 'dict_mult': 8,\n",
      " 'enc_dtype': 'fp32',\n",
      " 'l1_coeff': 0.0003,\n",
      " 'lr': 0.0001,\n",
      " 'model_batch_size': 512,\n",
      " 'num_tokens': 2000000000,\n",
      " 'seed': 52,\n",
      " 'seq_len': 128}\n",
      "Encoder device: cuda:0\n"
     ]
    }
   ],
   "source": [
    "from sprint.loading import load_all\n",
    "\n",
    "model, data, sae = load_all()"
   ]
  },
  {
   "cell_type": "code",
   "execution_count": 48,
   "metadata": {},
   "outputs": [
    {
     "data": {
      "text/plain": [
       "0"
      ]
     },
     "execution_count": 48,
     "metadata": {},
     "output_type": "execute_result"
    }
   ],
   "source": [
    "import unicodedata\n",
    "\n",
    "cyrillic_alphabet = set(\n",
    "    unicodedata.normalize(\"NFC\", \"абвгдеёжзийклмнопрстуфхцчшщъыьэюяАБВГДЕЁЖЗИЙКЛМНОПРСТУФХЦЧШЩЪЫЬЭЮЯ\")\n",
    ")\n",
    "\n",
    "cyrillic_tokens = []\n",
    "for k, v in model.tokenizer.vocab.items():\n",
    "    normalized_token = unicodedata.normalize(\"NFC\", k).replace(\"##\", \"\")\n",
    "    # Are any characters in the token in the alphabet?\n",
    "    if cyrillic_alphabet & set(k):\n",
    "        cyrillic_tokens.append(k)\n",
    "\n",
    "len(cyrillic_tokens)"
   ]
  },
  {
   "cell_type": "code",
   "execution_count": 45,
   "metadata": {},
   "outputs": [
    {
     "data": {
      "text/plain": [
       "48262"
      ]
     },
     "execution_count": 45,
     "metadata": {},
     "output_type": "execute_result"
    }
   ],
   "source": [
    "len(model.tokenizer.vocab.items())"
   ]
  },
  {
   "cell_type": "code",
   "execution_count": 46,
   "metadata": {},
   "outputs": [
    {
     "data": {
      "text/plain": [
       "\"<|BOS|>{'��', 'й', '��', 'з', 'а', 'Т', 'и', 'я', '��', 'ц', 'у', 'д', 'щ', 'э', '��', 'х', '��', 'г', 'т', '��', 'Р', '��', 'р', 'ю', 'е', 'б', 'л', 'ч', '��', '��', 'М', 'С', '��', 'н', 'Н', 'У', 'ы', 'о', 'Е', 'п', 'К', 'ж', 'Д', '��', 'И', 'Б', 'З', 'В', '��', 'ё', 'ф', 'ь', 'О', 'к', '��', 'П', 'ш', 'А', '��', '��', 'в', 'с', 'м', 'ъ', '��', '��'}\""
      ]
     },
     "execution_count": 46,
     "metadata": {},
     "output_type": "execute_result"
    }
   ],
   "source": [
    "\"\".join(model.to_str_tokens(model.to_tokens(str(cyrillic_alphabet))))"
   ]
  },
  {
   "cell_type": "code",
   "execution_count": 47,
   "metadata": {},
   "outputs": [
    {
     "data": {
      "text/plain": [
       "'<|BOS|>Мой дядя самых честных правил,\\nКогда не в шутку занемог,\\nОн уважать себя заставил\\nИ лучше выдумать не мог.\\nЕго пример другим наука;\\nНо, боже мой, какая скука\\nС больным сидеть и день и ночь,\\nНе отходя ни шагу прочь!\\nКакое низкое коварство\\nПолу-живого забавлять,\\nЕму подушки поправлять,\\nПечально подносить лекарство,\\nВздыхать и думать про себя:\\nКогда же чорт возьмет тебя'"
      ]
     },
     "execution_count": 47,
     "metadata": {},
     "output_type": "execute_result"
    }
   ],
   "source": [
    "prompt = \"\"\"Мой дядя самых честных правил,\n",
    "Когда не в шутку занемог,\n",
    "Он уважать себя заставил\n",
    "И лучше выдумать не мог.\n",
    "Его пример другим наука;\n",
    "Но, боже мой, какая скука\n",
    "С больным сидеть и день и ночь,\n",
    "Не отходя ни шагу прочь!\n",
    "Какое низкое коварство\n",
    "Полу-живого забавлять,\n",
    "Ему подушки поправлять,\n",
    "Печально подносить лекарство,\n",
    "Вздыхать и думать про себя:\n",
    "Когда же чорт возьмет тебя\"\"\"\n",
    "\n",
    "\"\".join(model.to_str_tokens(model.to_tokens(prompt)))"
   ]
  },
  {
   "cell_type": "code",
   "execution_count": 51,
   "metadata": {},
   "outputs": [
    {
     "data": {
      "text/plain": [
       "215402"
      ]
     },
     "execution_count": 51,
     "metadata": {},
     "output_type": "execute_result"
    }
   ],
   "source": [
    "len(data)"
   ]
  },
  {
   "cell_type": "code",
   "execution_count": null,
   "metadata": {},
   "outputs": [],
   "source": []
  }
 ],
 "metadata": {
  "kernelspec": {
   "display_name": "sprint",
   "language": "python",
   "name": "python3"
  },
  "language_info": {
   "codemirror_mode": {
    "name": "ipython",
    "version": 3
   },
   "file_extension": ".py",
   "mimetype": "text/x-python",
   "name": "python",
   "nbconvert_exporter": "python",
   "pygments_lexer": "ipython3",
   "version": "3.10.0"
  }
 },
 "nbformat": 4,
 "nbformat_minor": 2
}
