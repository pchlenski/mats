{
 "cells": [
  {
   "cell_type": "code",
   "execution_count": 2,
   "metadata": {},
   "outputs": [],
   "source": [
    "%load_ext autoreload\n",
    "%autoreload 2"
   ]
  },
  {
   "cell_type": "code",
   "execution_count": 3,
   "metadata": {},
   "outputs": [
    {
     "name": "stderr",
     "output_type": "stream",
     "text": [
      "/opt/conda/envs/sprint/lib/python3.10/site-packages/tqdm/auto.py:21: TqdmWarning: IProgress not found. Please update jupyter and ipywidgets. See https://ipywidgets.readthedocs.io/en/stable/user_install.html\n",
      "  from .autonotebook import tqdm as notebook_tqdm\n"
     ]
    }
   ],
   "source": [
    "import torch\n",
    "from transformer_lens import utils\n",
    "from sprint.loading import load_all"
   ]
  },
  {
   "cell_type": "code",
   "execution_count": 4,
   "metadata": {},
   "outputs": [
    {
     "name": "stdout",
     "output_type": "stream",
     "text": [
      "Loaded pretrained model gelu-1l into HookedTransformer\n",
      "Moving model to device:  cuda\n",
      "Changing model dtype to torch.float16\n",
      "Model device: cuda:0\n",
      "Tokens shape: torch.Size([215402, 128]), dtype: torch.int64, device: cuda:0\n",
      "{'batch_size': 4096,\n",
      " 'beta1': 0.9,\n",
      " 'beta2': 0.99,\n",
      " 'buffer_batches': 12288,\n",
      " 'buffer_mult': 384,\n",
      " 'buffer_size': 1572864,\n",
      " 'd_mlp': 2048,\n",
      " 'dict_mult': 8,\n",
      " 'enc_dtype': 'fp32',\n",
      " 'l1_coeff': 0.0003,\n",
      " 'lr': 0.0001,\n",
      " 'model_batch_size': 512,\n",
      " 'num_tokens': 2000000000,\n",
      " 'seed': 52,\n",
      " 'seq_len': 128}\n",
      "Encoder device: cuda:0\n"
     ]
    }
   ],
   "source": [
    "model, data, sae = load_all()"
   ]
  },
  {
   "cell_type": "code",
   "execution_count": 8,
   "metadata": {},
   "outputs": [],
   "source": [
    "def ln2_mlp_until_post(x, ln, mlp):\n",
    "    x = ln(x)\n",
    "    x = x @ mlp.W_in + mlp.b_in\n",
    "    x = mlp.act_fn(x)\n",
    "    return x"
   ]
  },
  {
   "cell_type": "code",
   "execution_count": 23,
   "metadata": {},
   "outputs": [
    {
     "name": "stdout",
     "output_type": "stream",
     "text": [
      "torch.Size([32, 128, 512])\n"
     ]
    }
   ],
   "source": [
    "out, cache = model.run_with_cache(data[:32])\n",
    "mid_acts = cache[utils.get_act_name(\"resid_mid\", 0)]\n",
    "print(mid_acts.shape)"
   ]
  },
  {
   "cell_type": "code",
   "execution_count": 27,
   "metadata": {},
   "outputs": [
    {
     "data": {
      "text/plain": [
       "torch.Size([1, 1, 2048])"
      ]
     },
     "execution_count": 27,
     "metadata": {},
     "output_type": "execute_result"
    }
   ],
   "source": [
    "x = torch.rand(1, 1, 512).cuda()\n",
    "\n",
    "ln2_mlp_until_post(x, model.blocks[0].ln2, model.blocks[0].mlp).shape"
   ]
  },
  {
   "cell_type": "code",
   "execution_count": 26,
   "metadata": {},
   "outputs": [
    {
     "data": {
      "text/plain": [
       "torch.Size([1, 1, 512])"
      ]
     },
     "execution_count": 26,
     "metadata": {},
     "output_type": "execute_result"
    }
   ],
   "source": [
    "model.blocks[0].mlp(model.blocks[0].ln2(x)).shape"
   ]
  },
  {
   "cell_type": "code",
   "execution_count": 38,
   "metadata": {},
   "outputs": [
    {
     "data": {
      "text/plain": [
       "odict_keys(['W_in', 'b_in', 'W_out', 'b_out'])"
      ]
     },
     "execution_count": 38,
     "metadata": {},
     "output_type": "execute_result"
    }
   ],
   "source": [
    "model.blocks[0].mlp._parameters.keys()"
   ]
  },
  {
   "cell_type": "code",
   "execution_count": 39,
   "metadata": {},
   "outputs": [
    {
     "data": {
      "text/plain": [
       "HookedTransformer(\n",
       "  (embed): Embed()\n",
       "  (hook_embed): HookPoint()\n",
       "  (pos_embed): PosEmbed()\n",
       "  (hook_pos_embed): HookPoint()\n",
       "  (blocks): ModuleList(\n",
       "    (0): TransformerBlock(\n",
       "      (ln1): LayerNormPre(\n",
       "        (hook_scale): HookPoint()\n",
       "        (hook_normalized): HookPoint()\n",
       "      )\n",
       "      (ln2): LayerNormPre(\n",
       "        (hook_scale): HookPoint()\n",
       "        (hook_normalized): HookPoint()\n",
       "      )\n",
       "      (attn): Attention(\n",
       "        (hook_k): HookPoint()\n",
       "        (hook_q): HookPoint()\n",
       "        (hook_v): HookPoint()\n",
       "        (hook_z): HookPoint()\n",
       "        (hook_attn_scores): HookPoint()\n",
       "        (hook_pattern): HookPoint()\n",
       "        (hook_result): HookPoint()\n",
       "      )\n",
       "      (mlp): MLP(\n",
       "        (hook_pre): HookPoint()\n",
       "        (hook_post): HookPoint()\n",
       "      )\n",
       "      (hook_attn_in): HookPoint()\n",
       "      (hook_q_input): HookPoint()\n",
       "      (hook_k_input): HookPoint()\n",
       "      (hook_v_input): HookPoint()\n",
       "      (hook_mlp_in): HookPoint()\n",
       "      (hook_attn_out): HookPoint()\n",
       "      (hook_mlp_out): HookPoint()\n",
       "      (hook_resid_pre): HookPoint()\n",
       "      (hook_resid_mid): HookPoint()\n",
       "      (hook_resid_post): HookPoint()\n",
       "    )\n",
       "  )\n",
       "  (ln_final): LayerNormPre(\n",
       "    (hook_scale): HookPoint()\n",
       "    (hook_normalized): HookPoint()\n",
       "  )\n",
       "  (unembed): Unembed()\n",
       ")"
      ]
     },
     "execution_count": 39,
     "metadata": {},
     "output_type": "execute_result"
    }
   ],
   "source": [
    "model"
   ]
  },
  {
   "cell_type": "code",
   "execution_count": 126,
   "metadata": {},
   "outputs": [
    {
     "name": "stdout",
     "output_type": "stream",
     "text": [
      "Forward hook triggered\n",
      "Forward hook triggered\n",
      "Forward hook triggered\n",
      "Forward hook triggered\n",
      "Forward hook triggered\n"
     ]
    },
    {
     "ename": "RuntimeError",
     "evalue": "Expected size for first two dimensions of batch2 tensor to be: [1, 512] but got: [1, 1].",
     "output_type": "error",
     "traceback": [
      "\u001b[0;31m---------------------------------------------------------------------------\u001b[0m",
      "\u001b[0;31mRuntimeError\u001b[0m                              Traceback (most recent call last)",
      "Cell \u001b[0;32mIn[126], line 46\u001b[0m\n\u001b[1;32m     20\u001b[0m \u001b[38;5;66;03m# # Backward\u001b[39;00m\n\u001b[1;32m     21\u001b[0m \u001b[38;5;66;03m# gradient_at_start = None\u001b[39;00m\n\u001b[1;32m     22\u001b[0m \n\u001b[0;32m   (...)\u001b[0m\n\u001b[1;32m     30\u001b[0m \u001b[38;5;66;03m#     else:\u001b[39;00m\n\u001b[1;32m     31\u001b[0m \u001b[38;5;66;03m#         print(\"Gradient not captured\")\u001b[39;00m\n\u001b[1;32m     34\u001b[0m x \u001b[38;5;241m=\u001b[39m model\u001b[38;5;241m.\u001b[39mrun_with_hooks(\n\u001b[1;32m     35\u001b[0m     data[\u001b[38;5;241m0\u001b[39m:\u001b[38;5;241m1\u001b[39m, \u001b[38;5;241m0\u001b[39m],\n\u001b[1;32m     36\u001b[0m     \u001b[38;5;66;03m# fwd_hooks=[(\"blocks.0.ln2.hook_normalized\", start_fwd_hook)],\u001b[39;00m\n\u001b[0;32m   (...)\u001b[0m\n\u001b[1;32m     44\u001b[0m     \u001b[38;5;66;03m# return_type=\"loss\",\u001b[39;00m\n\u001b[1;32m     45\u001b[0m )\n\u001b[0;32m---> 46\u001b[0m (\u001b[43mend_output\u001b[49m\u001b[43m \u001b[49m\u001b[38;5;241;43m@\u001b[39;49m\u001b[43m \u001b[49m\u001b[43mstart_output\u001b[49m)\u001b[38;5;241m.\u001b[39mbackward(gradient\u001b[38;5;241m=\u001b[39mstart_output)\n",
      "\u001b[0;31mRuntimeError\u001b[0m: Expected size for first two dimensions of batch2 tensor to be: [1, 512] but got: [1, 1]."
     ]
    }
   ],
   "source": [
    "from torch import gradient\n",
    "from transformer_lens.utils import get_act_name\n",
    "\n",
    "# Forward\n",
    "start_output = None\n",
    "def start_fwd_hook(value, hook):\n",
    "    global start_output\n",
    "    start_output = value.clone().detach()\n",
    "    start_output.requires_grad_(True)\n",
    "    print(\"Forward hook triggered\")\n",
    "    return value\n",
    "\n",
    "end_output = None\n",
    "def end_fwd_hook(value, hook):\n",
    "    global end_output\n",
    "    end_output = value.clone().detach()\n",
    "    return value\n",
    "\n",
    "\n",
    "# # Backward\n",
    "# gradient_at_start = None\n",
    "\n",
    "\n",
    "# def end_bwd_hook(value, hook):\n",
    "#     global gradient_at_start\n",
    "#     print(\"Backward hook triggered\")\n",
    "#     if start_output.grad is not None:\n",
    "#         gradient_at_start = start_output.grad.clone()\n",
    "#         print(\"Gradient captured\")\n",
    "#     else:\n",
    "#         print(\"Gradient not captured\")\n",
    "\n",
    "\n",
    "x = model.run_with_hooks(\n",
    "    data[0:1, 0],\n",
    "    # fwd_hooks=[(\"blocks.0.ln2.hook_normalized\", start_fwd_hook)],\n",
    "    # bwd_hooks=[(\"blocks.0.mlp.hook_post\", end_bwd_hook)],\n",
    "    fwd_hooks=[\n",
    "        (\"blocks.0.mlp.hook_post\", start_fwd_hook),\n",
    "        (\"blocks.0.ln2.hook_normalized\", end_fwd_hook),\n",
    "    ],\n",
    "    # bwd_hooks=[(\"blocks.0.ln2.hook_normalized\", end_bwd_hook)],\n",
    "    reset_hooks_end=False,\n",
    "    # return_type=\"loss\",\n",
    ")\n",
    "(end_output @ start_output).backward(gradient=start_output)\n",
    "# print(gradient_at_start)"
   ]
  },
  {
   "cell_type": "code",
   "execution_count": 119,
   "metadata": {},
   "outputs": [
    {
     "name": "stdout",
     "output_type": "stream",
     "text": [
      "torch.Size([32, 128, 512])\n",
      "torch.Size([32, 128, 2048])\n"
     ]
    }
   ],
   "source": [
    "print(end_output.shape)\n",
    "print(start_output.shape)"
   ]
  },
  {
   "cell_type": "code",
   "execution_count": 121,
   "metadata": {},
   "outputs": [
    {
     "name": "stdout",
     "output_type": "stream",
     "text": [
      "Forward hook triggered\n",
      "Forward hook triggered\n",
      "Forward hook triggered\n",
      "Forward hook triggered\n",
      "Forward hook triggered\n",
      "Forward hook triggered\n",
      "Forward hook triggered\n"
     ]
    }
   ],
   "source": [
    "_, cache = model.run_with_cache(\n",
    "    data[:32, 0], \n",
    "    # names_filter=[\"blocks.0.mlp.hook_post\", \"blocks.0.ln2.hook_normalized\"], \n",
    "    names_filter = [\"blocks.0.ln2.hook_normalized\", \"blocks.0.mlp.hook_post\"],\n",
    "    incl_bwd=True,\n",
    "    return_type=\"loss\"\n",
    ")"
   ]
  },
  {
   "cell_type": "code",
   "execution_count": null,
   "metadata": {},
   "outputs": [],
   "source": []
  }
 ],
 "metadata": {
  "kernelspec": {
   "display_name": "sprint",
   "language": "python",
   "name": "python3"
  },
  "language_info": {
   "codemirror_mode": {
    "name": "ipython",
    "version": 3
   },
   "file_extension": ".py",
   "mimetype": "text/x-python",
   "name": "python",
   "nbconvert_exporter": "python",
   "pygments_lexer": "ipython3",
   "version": "3.10.0"
  }
 },
 "nbformat": 4,
 "nbformat_minor": 2
}
