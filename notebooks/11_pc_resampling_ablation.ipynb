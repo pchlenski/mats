{
 "cells": [
  {
   "cell_type": "code",
   "execution_count": 1,
   "metadata": {},
   "outputs": [],
   "source": [
    "%load_ext autoreload\n",
    "%autoreload 2"
   ]
  },
  {
   "cell_type": "code",
   "execution_count": 2,
   "metadata": {},
   "outputs": [
    {
     "name": "stderr",
     "output_type": "stream",
     "text": [
      "/opt/conda/envs/sprint/lib/python3.10/site-packages/tqdm/auto.py:21: TqdmWarning: IProgress not found. Please update jupyter and ipywidgets. See https://ipywidgets.readthedocs.io/en/stable/user_install.html\n",
      "  from .autonotebook import tqdm as notebook_tqdm\n"
     ]
    }
   ],
   "source": [
    "import torch\n",
    "\n",
    "from transformer_lens import utils\n",
    "\n",
    "from sprint.loading import load_all"
   ]
  },
  {
   "cell_type": "code",
   "execution_count": 3,
   "metadata": {},
   "outputs": [
    {
     "name": "stdout",
     "output_type": "stream",
     "text": [
      "Loaded pretrained model gelu-1l into HookedTransformer\n",
      "Moving model to device:  cuda\n",
      "Changing model dtype to torch.float16\n",
      "Model device: cuda:0\n",
      "Tokens shape: torch.Size([215402, 128]), dtype: torch.int64, device: cuda:0\n",
      "Loading run1 from HuggingFace at 25\n",
      "{'batch_size': 4096,\n",
      " 'beta1': 0.9,\n",
      " 'beta2': 0.99,\n",
      " 'buffer_batches': 12288,\n",
      " 'buffer_mult': 384,\n",
      " 'buffer_size': 1572864,\n",
      " 'd_mlp': 2048,\n",
      " 'dict_mult': 8,\n",
      " 'enc_dtype': 'fp32',\n",
      " 'l1_coeff': 0.0003,\n",
      " 'lr': 0.0001,\n",
      " 'model_batch_size': 512,\n",
      " 'num_tokens': 2000000000,\n",
      " 'seed': 52,\n",
      " 'seq_len': 128}\n",
      "Encoder device: cuda:0\n"
     ]
    }
   ],
   "source": [
    "model, data, sae = load_all()"
   ]
  },
  {
   "cell_type": "code",
   "execution_count": 4,
   "metadata": {},
   "outputs": [
    {
     "name": "stdout",
     "output_type": "stream",
     "text": [
      "<|BOS|>\tI\t can\t't\t wait\t to\t see\t you\t again\t!\n",
      "<|BOS|>\tI\t really\t cant\t wait\t to\t see\t you\t again\t!\n"
     ]
    }
   ],
   "source": [
    "prompt_clean = \"I can't wait to see you again!\"\n",
    "prompt_corrupted = \"I really cant wait to see you again!\"\n",
    "\n",
    "# Check that the tokens line up\n",
    "tokens_clean = model.to_tokens(prompt_clean).detach().cpu().numpy().flatten()\n",
    "tokens_corrupted = model.to_tokens(prompt_corrupted).detach().cpu().numpy().flatten()\n",
    "\n",
    "print(\"\\t\".join([model.to_string(t) for t in tokens_clean]))\n",
    "print(\"\\t\".join([model.to_string(t) for t in tokens_corrupted]))"
   ]
  },
  {
   "cell_type": "code",
   "execution_count": 5,
   "metadata": {},
   "outputs": [
    {
     "name": "stdout",
     "output_type": "stream",
     "text": [
      "blocks.0.hook_attn_out\n",
      "blocks.0.hook_attn_out\n"
     ]
    }
   ],
   "source": [
    "# Names\n",
    "pattern = utils.get_act_name(\"attn_out\", 0)\n",
    "post = utils.get_act_name(\"post\", 0)\n",
    "\n",
    "# First, get the corrupt attention pattern\n",
    "out_corrupt, cache_corrupt = model.run_with_cache(prompt_corrupted, names_filter=[pattern, post])\n",
    "attn_corrupt = cache_corrupt[pattern]\n",
    "\n",
    "# Then, get the clean outputs\n",
    "out_clean, cache_clean = model.run_with_cache(prompt_clean, names_filter=[pattern, post])\n",
    "attn_clean = cache_clean[pattern]\n",
    "\n",
    "\n",
    "# Definte the ablation hook\n",
    "def ablate_attn(activation, hook):\n",
    "    print(hook.name)\n",
    "    return attn_corrupt\n",
    "\n",
    "\n",
    "# Now patch in the corrupt attention pattern and get outputs\n",
    "with model.hooks(fwd_hooks=[(pattern, ablate_attn)]):\n",
    "    out_resampled, cache_resampled = model.run_with_cache(prompt_clean, names_filter=[post])\n",
    "# out_resampled = model.run_with_hooks(prompt_clean, fwd_hooks=[(pattern, ablate_attn), (post, cache_act)])\n",
    "\n",
    "# Just for fun, the other way around:\n",
    "\n",
    "\n",
    "def ablate_attn2(activation, hook):\n",
    "    print(hook.name)\n",
    "    return attn_clean\n",
    "\n",
    "\n",
    "# out_resampled2 = model.run_with_hooks(prompt_corrupted, fwd_hooks=[(pattern, ablate_attn2), (post, cache_act2)])\n",
    "# model.add_hook(pattern, ablate_attn2)\n",
    "with model.hooks(fwd_hooks=[(pattern, ablate_attn2)]):\n",
    "    out_resampled2, cache_resampled2 = model.run_with_cache(prompt_corrupted, names_filter=[post])\n",
    "# model.remove_all_hook_fns()"
   ]
  },
  {
   "cell_type": "code",
   "execution_count": 6,
   "metadata": {},
   "outputs": [
    {
     "name": "stdout",
     "output_type": "stream",
     "text": [
      "0.0\n",
      "1.8125\n",
      "1.576\n",
      "0.0\n"
     ]
    }
   ],
   "source": [
    "FEAT = 10996\n",
    "TOK = 3\n",
    "\n",
    "for cache in [cache_corrupt, cache_clean, cache_resampled, cache_resampled2]:\n",
    "    act = cache[post]\n",
    "    feat = sae(act[0, TOK])[2].detach().cpu().numpy().flatten()\n",
    "    print(feat[FEAT])"
   ]
  },
  {
   "cell_type": "code",
   "execution_count": 7,
   "metadata": {},
   "outputs": [
    {
     "data": {
      "text/plain": [
       "{'hook_embed': HookPoint(),\n",
       " 'hook_pos_embed': HookPoint(),\n",
       " 'blocks.0.ln1.hook_scale': HookPoint(),\n",
       " 'blocks.0.ln1.hook_normalized': HookPoint(),\n",
       " 'blocks.0.ln2.hook_scale': HookPoint(),\n",
       " 'blocks.0.ln2.hook_normalized': HookPoint(),\n",
       " 'blocks.0.attn.hook_k': HookPoint(),\n",
       " 'blocks.0.attn.hook_q': HookPoint(),\n",
       " 'blocks.0.attn.hook_v': HookPoint(),\n",
       " 'blocks.0.attn.hook_z': HookPoint(),\n",
       " 'blocks.0.attn.hook_attn_scores': HookPoint(),\n",
       " 'blocks.0.attn.hook_pattern': HookPoint(),\n",
       " 'blocks.0.attn.hook_result': HookPoint(),\n",
       " 'blocks.0.mlp.hook_pre': HookPoint(),\n",
       " 'blocks.0.mlp.hook_post': HookPoint(),\n",
       " 'blocks.0.hook_attn_in': HookPoint(),\n",
       " 'blocks.0.hook_q_input': HookPoint(),\n",
       " 'blocks.0.hook_k_input': HookPoint(),\n",
       " 'blocks.0.hook_v_input': HookPoint(),\n",
       " 'blocks.0.hook_mlp_in': HookPoint(),\n",
       " 'blocks.0.hook_attn_out': HookPoint(),\n",
       " 'blocks.0.hook_mlp_out': HookPoint(),\n",
       " 'blocks.0.hook_resid_pre': HookPoint(),\n",
       " 'blocks.0.hook_resid_mid': HookPoint(),\n",
       " 'blocks.0.hook_resid_post': HookPoint(),\n",
       " 'ln_final.hook_scale': HookPoint(),\n",
       " 'ln_final.hook_normalized': HookPoint()}"
      ]
     },
     "execution_count": 7,
     "metadata": {},
     "output_type": "execute_result"
    }
   ],
   "source": [
    "model.hook_dict"
   ]
  },
  {
   "cell_type": "code",
   "execution_count": null,
   "metadata": {},
   "outputs": [],
   "source": []
  }
 ],
 "metadata": {
  "kernelspec": {
   "display_name": "sprint",
   "language": "python",
   "name": "python3"
  },
  "language_info": {
   "codemirror_mode": {
    "name": "ipython",
    "version": 3
   },
   "file_extension": ".py",
   "mimetype": "text/x-python",
   "name": "python",
   "nbconvert_exporter": "python",
   "pygments_lexer": "ipython3",
   "version": "3.10.0"
  }
 },
 "nbformat": 4,
 "nbformat_minor": 2
}
