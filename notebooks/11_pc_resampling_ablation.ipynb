{
 "cells": [
  {
   "cell_type": "code",
   "execution_count": 1,
   "metadata": {},
   "outputs": [],
   "source": [
    "%load_ext autoreload\n",
    "%autoreload 2"
   ]
  },
  {
   "cell_type": "code",
   "execution_count": 2,
   "metadata": {},
   "outputs": [
    {
     "name": "stderr",
     "output_type": "stream",
     "text": [
      "/opt/conda/envs/sprint/lib/python3.10/site-packages/tqdm/auto.py:21: TqdmWarning: IProgress not found. Please update jupyter and ipywidgets. See https://ipywidgets.readthedocs.io/en/stable/user_install.html\n",
      "  from .autonotebook import tqdm as notebook_tqdm\n"
     ]
    }
   ],
   "source": [
    "import torch\n",
    "\n",
    "from transformer_lens import utils\n",
    "\n",
    "from sprint.loading import load_all"
   ]
  },
  {
   "cell_type": "code",
   "execution_count": 3,
   "metadata": {},
   "outputs": [
    {
     "name": "stdout",
     "output_type": "stream",
     "text": [
      "Loaded pretrained model gelu-1l into HookedTransformer\n",
      "Moving model to device:  cuda\n",
      "Changing model dtype to torch.float16\n",
      "Model device: cuda:0\n",
      "Tokens shape: torch.Size([215402, 128]), dtype: torch.int64, device: cuda:0\n",
      "Loading run1 from HuggingFace at 25\n",
      "{'batch_size': 4096,\n",
      " 'beta1': 0.9,\n",
      " 'beta2': 0.99,\n",
      " 'buffer_batches': 12288,\n",
      " 'buffer_mult': 384,\n",
      " 'buffer_size': 1572864,\n",
      " 'd_mlp': 2048,\n",
      " 'dict_mult': 8,\n",
      " 'enc_dtype': 'fp32',\n",
      " 'l1_coeff': 0.0003,\n",
      " 'lr': 0.0001,\n",
      " 'model_batch_size': 512,\n",
      " 'num_tokens': 2000000000,\n",
      " 'seed': 52,\n",
      " 'seq_len': 128}\n",
      "Encoder device: cuda:0\n"
     ]
    }
   ],
   "source": [
    "model, data, sae = load_all()"
   ]
  },
  {
   "cell_type": "code",
   "execution_count": 44,
   "metadata": {},
   "outputs": [
    {
     "name": "stdout",
     "output_type": "stream",
     "text": [
      "<|BOS|>\tThey\t say\t that\t he\t doesn\t't 7\n",
      "<|BOS|>\tOh\t't\t say\t can\t you\t see 7\n"
     ]
    }
   ],
   "source": [
    "# prompt_clean = \"I can't wait to see you again!\"\n",
    "# prompt_corrupted = \"I really cant wait to see you again!\"\n",
    "\n",
    "prompt_clean = \"They say that he doesn't\"\n",
    "prompt_corrupted = \"Oh't say can you see\"\n",
    "\n",
    "# prompt_clean = \"Full stop. It is in your best interest to comply with our request\"\n",
    "# prompt_corrupted = \"I would really like to know how many tokens are in the other prompt\"\n",
    "\n",
    "# Check that the tokens line up\n",
    "tokens_clean = model.to_tokens(prompt_clean).detach().cpu().numpy().flatten()\n",
    "tokens_corrupted = model.to_tokens(prompt_corrupted).detach().cpu().numpy().flatten()\n",
    "\n",
    "print(\"\\t\".join([model.to_string(t) for t in tokens_clean]), len(tokens_clean))\n",
    "print(\"\\t\".join([model.to_string(t) for t in tokens_corrupted]), len(tokens_corrupted))"
   ]
  },
  {
   "cell_type": "code",
   "execution_count": 45,
   "metadata": {},
   "outputs": [
    {
     "name": "stdout",
     "output_type": "stream",
     "text": [
      "blocks.0.hook_attn_out\n",
      "blocks.0.hook_attn_out\n"
     ]
    }
   ],
   "source": [
    "# Names\n",
    "pattern = utils.get_act_name(\"attn_out\", 0)\n",
    "post = utils.get_act_name(\"post\", 0)\n",
    "\n",
    "# First, get the corrupt attention pattern\n",
    "out_corrupt, cache_corrupt = model.run_with_cache(prompt_corrupted, names_filter=[pattern, post])\n",
    "attn_corrupt = cache_corrupt[pattern]\n",
    "\n",
    "# Then, get the clean outputs\n",
    "out_clean, cache_clean = model.run_with_cache(prompt_clean, names_filter=[pattern, post])\n",
    "attn_clean = cache_clean[pattern]\n",
    "\n",
    "\n",
    "# Definte the ablation hook\n",
    "def ablate_attn(activation, hook):\n",
    "    print(hook.name)\n",
    "    return attn_corrupt\n",
    "\n",
    "\n",
    "# Now patch in the corrupt attention pattern and get outputs\n",
    "with model.hooks(fwd_hooks=[(pattern, ablate_attn)]):\n",
    "    out_resampled, cache_resampled = model.run_with_cache(prompt_clean, names_filter=[post])\n",
    "# out_resampled = model.run_with_hooks(prompt_clean, fwd_hooks=[(pattern, ablate_attn), (post, cache_act)])\n",
    "\n",
    "# Just for fun, the other way around:\n",
    "\n",
    "\n",
    "def ablate_attn2(activation, hook):\n",
    "    print(hook.name)\n",
    "    return attn_clean\n",
    "\n",
    "\n",
    "# out_resampled2 = model.run_with_hooks(prompt_corrupted, fwd_hooks=[(pattern, ablate_attn2), (post, cache_act2)])\n",
    "# model.add_hook(pattern, ablate_attn2)\n",
    "with model.hooks(fwd_hooks=[(pattern, ablate_attn2)]):\n",
    "    out_resampled2, cache_resampled2 = model.run_with_cache(prompt_corrupted, names_filter=[post])\n",
    "# model.remove_all_hook_fns()"
   ]
  },
  {
   "cell_type": "code",
   "execution_count": 46,
   "metadata": {},
   "outputs": [
    {
     "name": "stdout",
     "output_type": "stream",
     "text": [
      "0.0\n",
      "1.859\n",
      "1.292\n",
      "0.0\n",
      "cor\tclean\tclean->cor\tcor->clean\n"
     ]
    },
    {
     "ename": "NameError",
     "evalue": "name 'get_feature_mid' is not defined",
     "output_type": "error",
     "traceback": [
      "\u001b[0;31m---------------------------------------------------------------------------\u001b[0m",
      "\u001b[0;31mNameError\u001b[0m                                 Traceback (most recent call last)",
      "Cell \u001b[0;32mIn[46], line 32\u001b[0m\n\u001b[1;32m     30\u001b[0m \u001b[38;5;28;01mfor\u001b[39;00m cache1 \u001b[38;5;129;01min\u001b[39;00m [cache_corrupt, cache_clean, cache_resampled, cache_resampled2]:\n\u001b[1;32m     31\u001b[0m     act1 \u001b[38;5;241m=\u001b[39m cache1[post]\n\u001b[0;32m---> 32\u001b[0m     mid1 \u001b[38;5;241m=\u001b[39m \u001b[43mget_feature_mid\u001b[49m()\n\u001b[1;32m     33\u001b[0m     \u001b[38;5;28;01mfor\u001b[39;00m cache2 \u001b[38;5;129;01min\u001b[39;00m [cache_corrupt, cache_clean, cache_resampled, cache_resampled2]:\n\u001b[1;32m     34\u001b[0m         act2 \u001b[38;5;241m=\u001b[39m cache2[post]\n",
      "\u001b[0;31mNameError\u001b[0m: name 'get_feature_mid' is not defined"
     ]
    }
   ],
   "source": [
    "FEAT = 10996\n",
    "# TOK = 3\n",
    "TOK = 6\n",
    "# FEAT = 4542\n",
    "# TOK = 5\n",
    "\n",
    "def get_feature_mid_jacob(prompt, feature_token_idx, feature_post, use_ln=True, layer=0, mlp_out=True, model=None, encoder=None):\n",
    "    with torch.no_grad():\n",
    "        _, cache = model.run_with_cache(prompt, names_filter=[\n",
    "          utils.get_act_name(\"resid_mid\", layer)\n",
    "        ])\n",
    "    mid_acts = cache[utils.get_act_name(\"resid_mid\", layer)]\n",
    "    x_mid = mid_acts[0, feature_token_idx][None, None, :]\n",
    "\n",
    "    my_fun = (ln2_mlp_until_post if not mlp_out else ln2_mlp_until_out)\n",
    "    feature_mid = get_tangent_plane_at_point(x_mid,\n",
    "        lambda x: my_fun(x, model.blocks[layer].ln2, model.blocks[layer].mlp, use_ln=use_ln),\n",
    "        feature_post\n",
    "    )[0,0]\n",
    "    return feature_mid\n",
    "\n",
    "for cache in [cache_corrupt, cache_clean, cache_resampled, cache_resampled2]:\n",
    "    act = cache[post]\n",
    "    feat = sae(act[0, TOK])[2].detach().cpu().numpy().flatten()\n",
    "    print(feat[FEAT])\n",
    "\n",
    "# Cosine similarities\n",
    "caches = [cache_corrupt, cache_clean, cache_resampled, cache_resampled2]\n",
    "print(\"\\t\".join([\"cor\", \"clean\", \"clean->cor\", \"cor->clean\"]))\n",
    "for cache1 in [cache_corrupt, cache_clean, cache_resampled, cache_resampled2]:\n",
    "    act1 = cache1[post]\n",
    "    mid1 = get_feature_mid()\n",
    "    for cache2 in [cache_corrupt, cache_clean, cache_resampled, cache_resampled2]:\n",
    "        act2 = cache2[post]\n",
    "        sim = torch.nn.functional.cosine_similarity(act1, act2, dim=-1)\n",
    "        print(f\"{sim[0, TOK].item():.3f}\", end=\"\\t\")\n",
    "    print()"
   ]
  },
  {
   "cell_type": "code",
   "execution_count": null,
   "metadata": {},
   "outputs": [],
   "source": [
    "dla()"
   ]
  }
 ],
 "metadata": {
  "kernelspec": {
   "display_name": "sprint",
   "language": "python",
   "name": "python3"
  },
  "language_info": {
   "codemirror_mode": {
    "name": "ipython",
    "version": 3
   },
   "file_extension": ".py",
   "mimetype": "text/x-python",
   "name": "python",
   "nbconvert_exporter": "python",
   "pygments_lexer": "ipython3",
   "version": "3.10.0"
  }
 },
 "nbformat": 4,
 "nbformat_minor": 2
}
