{
 "cells": [
  {
   "cell_type": "markdown",
   "metadata": {},
   "source": [
    "# Feature search\n",
    "\n",
    "We are looking for a feature that has the following properites:\n",
    "* Predicted by presence of a single token with high precision and recall\n",
    "* Minimal number of attention heads contributing to SAE feature\n",
    "\n",
    "This is the plan:\n",
    "* Let `DD := data/processed/gelu_1l_audit`\n",
    "* Compute and store activations, logits, SAE features for all data points\n",
    "    * Store in `DD/activations`\n",
    "* Find (feature, token) pairs:\n",
    "    * Take top K activations for each SAE feature\n",
    "    * Take the top token in the dataset for these examples\n",
    "    * Store in `DD/token_feature_pairs`\n",
    "* Evaluate precision and recall of `FEATURE IF TOKEN` predictor\n",
    "    * Store in `DD/precision_recall.tsv`"
   ]
  },
  {
   "cell_type": "code",
   "execution_count": 1,
   "metadata": {},
   "outputs": [],
   "source": [
    "%load_ext autoreload\n",
    "%autoreload 2"
   ]
  },
  {
   "cell_type": "code",
   "execution_count": 2,
   "metadata": {},
   "outputs": [],
   "source": [
    "# Some hyperparameters\n",
    "\n",
    "MODEL = \"gelu-1l\"\n",
    "RUN = \"run1\"\n",
    "DD = f\"../data/processed/{MODEL}_{RUN}_audit\"\n",
    "\n",
    "BATCH_SIZE = 128"
   ]
  },
  {
   "cell_type": "code",
   "execution_count": 51,
   "metadata": {},
   "outputs": [
    {
     "name": "stdout",
     "output_type": "stream",
     "text": [
      "Collecting scikit-learn\n",
      "  Downloading scikit_learn-1.3.2-cp310-cp310-manylinux_2_17_x86_64.manylinux2014_x86_64.whl.metadata (11 kB)\n",
      "Requirement already satisfied: numpy<2.0,>=1.17.3 in /opt/conda/envs/sprint/lib/python3.10/site-packages (from scikit-learn) (1.26.2)\n",
      "Collecting scipy>=1.5.0 (from scikit-learn)\n",
      "  Downloading scipy-1.11.4-cp310-cp310-manylinux_2_17_x86_64.manylinux2014_x86_64.whl.metadata (60 kB)\n",
      "\u001b[2K     \u001b[90m━━━━━━━━━━━━━━━━━━━━━━━━━━━━━━━━━━━━━━━━\u001b[0m \u001b[32m60.4/60.4 kB\u001b[0m \u001b[31m1.9 MB/s\u001b[0m eta \u001b[36m0:00:00\u001b[0m\n",
      "\u001b[?25hRequirement already satisfied: joblib>=1.1.1 in /opt/conda/envs/sprint/lib/python3.10/site-packages (from scikit-learn) (1.3.2)\n",
      "Collecting threadpoolctl>=2.0.0 (from scikit-learn)\n",
      "  Downloading threadpoolctl-3.2.0-py3-none-any.whl.metadata (10.0 kB)\n",
      "Downloading scikit_learn-1.3.2-cp310-cp310-manylinux_2_17_x86_64.manylinux2014_x86_64.whl (10.8 MB)\n",
      "\u001b[2K   \u001b[90m━━━━━━━━━━━━━━━━━━━━━━━━━━━━━━━━━━━━━━━━\u001b[0m \u001b[32m10.8/10.8 MB\u001b[0m \u001b[31m125.7 MB/s\u001b[0m eta \u001b[36m0:00:00\u001b[0m\u001b[36m0:00:01\u001b[0m\n",
      "\u001b[?25hDownloading scipy-1.11.4-cp310-cp310-manylinux_2_17_x86_64.manylinux2014_x86_64.whl (36.4 MB)\n",
      "\u001b[2K   \u001b[90m━━━━━━━━━━━━━━━━━━━━━━━━━━━━━━━━━━━━━━━━\u001b[0m \u001b[32m36.4/36.4 MB\u001b[0m \u001b[31m131.6 MB/s\u001b[0m eta \u001b[36m0:00:00\u001b[0m00:01\u001b[0m00:01\u001b[0m\n",
      "\u001b[?25hDownloading threadpoolctl-3.2.0-py3-none-any.whl (15 kB)\n",
      "Installing collected packages: threadpoolctl, scipy, scikit-learn\n",
      "Successfully installed scikit-learn-1.3.2 scipy-1.11.4 threadpoolctl-3.2.0\n",
      "\u001b[33mWARNING: Running pip as the 'root' user can result in broken permissions and conflicting behaviour with the system package manager. It is recommended to use a virtual environment instead: https://pip.pypa.io/warnings/venv\u001b[0m\u001b[33m\n",
      "\u001b[0mNote: you may need to restart the kernel to use updated packages.\n"
     ]
    }
   ],
   "source": [
    "pip install scikit-learn"
   ]
  },
  {
   "cell_type": "code",
   "execution_count": 52,
   "metadata": {},
   "outputs": [],
   "source": [
    "# Imports\n",
    "\n",
    "import os\n",
    "\n",
    "import torch\n",
    "import torch.nn as nn\n",
    "import torch.nn.functional as F\n",
    "import matplotlib.pyplot as plt\n",
    "import numpy as np\n",
    "import pandas as pd\n",
    "from tqdm import tqdm\n",
    "\n",
    "from sprint.loading import load_all\n",
    "\n",
    "from sklearn.metrics import f1_score"
   ]
  },
  {
   "cell_type": "code",
   "execution_count": 4,
   "metadata": {},
   "outputs": [],
   "source": [
    "# Make sure DD exists\n",
    "\n",
    "if not os.path.exists(DD):\n",
    "    os.mkdir(DD)"
   ]
  },
  {
   "cell_type": "code",
   "execution_count": 5,
   "metadata": {},
   "outputs": [
    {
     "name": "stdout",
     "output_type": "stream",
     "text": [
      "Loaded pretrained model gelu-1l into HookedTransformer\n",
      "Moving model to device:  cuda\n",
      "Changing model dtype to torch.float16\n",
      "{'batch_size': 4096,\n",
      " 'beta1': 0.9,\n",
      " 'beta2': 0.99,\n",
      " 'buffer_batches': 12288,\n",
      " 'buffer_mult': 384,\n",
      " 'buffer_size': 1572864,\n",
      " 'd_mlp': 2048,\n",
      " 'dict_mult': 8,\n",
      " 'enc_dtype': 'fp32',\n",
      " 'l1_coeff': 0.0003,\n",
      " 'lr': 0.0001,\n",
      " 'model_batch_size': 512,\n",
      " 'num_tokens': 2000000000,\n",
      " 'seed': 52,\n",
      " 'seq_len': 128}\n"
     ]
    }
   ],
   "source": [
    "# Load model, data, and SAE\n",
    "\n",
    "model, data, sae = load_all(verbose=False)"
   ]
  },
  {
   "cell_type": "markdown",
   "metadata": {},
   "source": [
    "## Brief detour: how to stash all of our activations conveniently"
   ]
  },
  {
   "cell_type": "code",
   "execution_count": 6,
   "metadata": {},
   "outputs": [
    {
     "name": "stdout",
     "output_type": "stream",
     "text": [
      "torch.Size([32, 128, 48262])\n",
      "dict_keys(['hook_embed', 'hook_pos_embed', 'blocks.0.hook_resid_pre', 'blocks.0.ln1.hook_scale', 'blocks.0.ln1.hook_normalized', 'blocks.0.attn.hook_q', 'blocks.0.attn.hook_k', 'blocks.0.attn.hook_v', 'blocks.0.attn.hook_attn_scores', 'blocks.0.attn.hook_pattern', 'blocks.0.attn.hook_z', 'blocks.0.hook_attn_out', 'blocks.0.hook_resid_mid', 'blocks.0.ln2.hook_scale', 'blocks.0.ln2.hook_normalized', 'blocks.0.mlp.hook_pre', 'blocks.0.mlp.hook_post', 'blocks.0.hook_mlp_out', 'blocks.0.hook_resid_post', 'ln_final.hook_scale', 'ln_final.hook_normalized'])\n",
      "HookedTransformer(\n",
      "  (embed): Embed()\n",
      "  (hook_embed): HookPoint()\n",
      "  (pos_embed): PosEmbed()\n",
      "  (hook_pos_embed): HookPoint()\n",
      "  (blocks): ModuleList(\n",
      "    (0): TransformerBlock(\n",
      "      (ln1): LayerNormPre(\n",
      "        (hook_scale): HookPoint()\n",
      "        (hook_normalized): HookPoint()\n",
      "      )\n",
      "      (ln2): LayerNormPre(\n",
      "        (hook_scale): HookPoint()\n",
      "        (hook_normalized): HookPoint()\n",
      "      )\n",
      "      (attn): Attention(\n",
      "        (hook_k): HookPoint()\n",
      "        (hook_q): HookPoint()\n",
      "        (hook_v): HookPoint()\n",
      "        (hook_z): HookPoint()\n",
      "        (hook_attn_scores): HookPoint()\n",
      "        (hook_pattern): HookPoint()\n",
      "        (hook_result): HookPoint()\n",
      "      )\n",
      "      (mlp): MLP(\n",
      "        (hook_pre): HookPoint()\n",
      "        (hook_post): HookPoint()\n",
      "      )\n",
      "      (hook_attn_in): HookPoint()\n",
      "      (hook_q_input): HookPoint()\n",
      "      (hook_k_input): HookPoint()\n",
      "      (hook_v_input): HookPoint()\n",
      "      (hook_mlp_in): HookPoint()\n",
      "      (hook_attn_out): HookPoint()\n",
      "      (hook_mlp_out): HookPoint()\n",
      "      (hook_resid_pre): HookPoint()\n",
      "      (hook_resid_mid): HookPoint()\n",
      "      (hook_resid_post): HookPoint()\n",
      "    )\n",
      "  )\n",
      "  (ln_final): LayerNormPre(\n",
      "    (hook_scale): HookPoint()\n",
      "    (hook_normalized): HookPoint()\n",
      "  )\n",
      "  (unembed): Unembed()\n",
      ")\n"
     ]
    }
   ],
   "source": [
    "# Brief sanity check: how can we pull out all of the model components for a batch:\n",
    "\n",
    "data_batch = data[:32, :]\n",
    "logits_batch, cache_batch = model.run_with_cache(data_batch)\n",
    "\n",
    "print(logits_batch.shape)\n",
    "print(cache_batch.keys())\n",
    "print(model)"
   ]
  },
  {
   "cell_type": "code",
   "execution_count": 7,
   "metadata": {},
   "outputs": [
    {
     "name": "stdout",
     "output_type": "stream",
     "text": [
      "blocks.0.mlp.hook_post\n"
     ]
    }
   ],
   "source": [
    "# Get_act_name is a helper function that returns the name of the activation function\n",
    "\n",
    "from transformer_lens.utils import get_act_name\n",
    "\n",
    "print(get_act_name(\"post\", 0))"
   ]
  },
  {
   "cell_type": "code",
   "execution_count": 8,
   "metadata": {},
   "outputs": [
    {
     "data": {
      "text/plain": [
       "tensor([[[0., 0., 0.,  ..., 0., 0., 0.],\n",
       "         [0., 0., 0.,  ..., 0., 0., 0.],\n",
       "         [0., 0., 0.,  ..., 0., 0., 0.],\n",
       "         ...,\n",
       "         [0., 0., 0.,  ..., 0., 0., 0.],\n",
       "         [0., 0., 0.,  ..., 0., 0., 0.],\n",
       "         [0., 0., 0.,  ..., 0., 0., 0.]],\n",
       "\n",
       "        [[0., 0., 0.,  ..., 0., 0., 0.],\n",
       "         [0., 0., 0.,  ..., 0., 0., 0.],\n",
       "         [0., 0., 0.,  ..., 0., 0., 0.],\n",
       "         ...,\n",
       "         [0., 0., 0.,  ..., 0., 0., 0.],\n",
       "         [0., 0., 0.,  ..., 0., 0., 0.],\n",
       "         [0., 0., 0.,  ..., 0., 0., 0.]],\n",
       "\n",
       "        [[0., 0., 0.,  ..., 0., 0., 0.],\n",
       "         [0., 0., 0.,  ..., 0., 0., 0.],\n",
       "         [0., 0., 0.,  ..., 0., 0., 0.],\n",
       "         ...,\n",
       "         [0., 0., 0.,  ..., 0., 0., 0.],\n",
       "         [0., 0., 0.,  ..., 0., 0., 0.],\n",
       "         [0., 0., 0.,  ..., 0., 0., 0.]],\n",
       "\n",
       "        ...,\n",
       "\n",
       "        [[0., 0., 0.,  ..., 0., 0., 0.],\n",
       "         [0., 0., 0.,  ..., 0., 0., 0.],\n",
       "         [0., 0., 0.,  ..., 0., 0., 0.],\n",
       "         ...,\n",
       "         [0., 0., 0.,  ..., 0., 0., 0.],\n",
       "         [0., 0., 0.,  ..., 0., 0., 0.],\n",
       "         [0., 0., 0.,  ..., 0., 0., 0.]],\n",
       "\n",
       "        [[0., 0., 0.,  ..., 0., 0., 0.],\n",
       "         [0., 0., 0.,  ..., 0., 0., 0.],\n",
       "         [0., 0., 0.,  ..., 0., 0., 0.],\n",
       "         ...,\n",
       "         [0., 0., 0.,  ..., 0., 0., 0.],\n",
       "         [0., 0., 0.,  ..., 0., 0., 0.],\n",
       "         [0., 0., 0.,  ..., 0., 0., 0.]],\n",
       "\n",
       "        [[0., 0., 0.,  ..., 0., 0., 0.],\n",
       "         [0., 0., 0.,  ..., 0., 0., 0.],\n",
       "         [0., 0., 0.,  ..., 0., 0., 0.],\n",
       "         ...,\n",
       "         [0., 0., 0.,  ..., 0., 0., 0.],\n",
       "         [0., 0., 0.,  ..., 0., 0., 0.],\n",
       "         [0., 0., 0.,  ..., 0., 0., 0.]]], device='cuda:0',\n",
       "       grad_fn=<ReluBackward0>)"
      ]
     },
     "execution_count": 8,
     "metadata": {},
     "output_type": "execute_result"
    }
   ],
   "source": [
    "# SAE outputs are (loss, x_reconstruct, acts, l2_loss, l1_loss)\n",
    "# We just want the activations\n",
    "\n",
    "sae(cache_batch[\"blocks.0.mlp.hook_post\"])[2]"
   ]
  },
  {
   "cell_type": "code",
   "execution_count": 9,
   "metadata": {},
   "outputs": [
    {
     "data": {
      "text/plain": [
       "<matplotlib.image.AxesImage at 0x7f5de38c6140>"
      ]
     },
     "execution_count": 9,
     "metadata": {},
     "output_type": "execute_result"
    },
    {
     "data": {
      "image/png": "[encoded data removed]",
      "text/plain": [
       "<Figure size 1600x400 with 1 Axes>"
      ]
     },
     "metadata": {},
     "output_type": "display_data"
    }
   ],
   "source": [
    "# Let's try to visualize one SAE output - first 512 activations of the first batch element\n",
    "\n",
    "plt.matshow(sae(cache_batch[\"blocks.0.mlp.hook_post\"])[2].detach().cpu().numpy()[0, :, :512])"
   ]
  },
  {
   "cell_type": "code",
   "execution_count": 10,
   "metadata": {},
   "outputs": [],
   "source": [
    "# Verify we can get logits from activations\n",
    "\n",
    "\n",
    "def get_logits(model, cache):\n",
    "    mlp_w = model.state_dict()[\"blocks.0.mlp.W_out\"]\n",
    "    mlp_b = model.state_dict()[\"blocks.0.mlp.b_out\"]\n",
    "    mlp_out = cache[\"blocks.0.mlp.hook_post\"] @ mlp_w + mlp_b\n",
    "    residual = cache[\"blocks.0.hook_resid_mid\"]\n",
    "\n",
    "    return model.unembed(model.ln_final(mlp_out + residual))\n",
    "\n",
    "\n",
    "assert torch.isclose(get_logits(model, cache_batch), logits_batch).all()"
   ]
  },
  {
   "cell_type": "markdown",
   "metadata": {},
   "source": [
    "## Loop through data, stash values"
   ]
  },
  {
   "cell_type": "code",
   "execution_count": 111,
   "metadata": {},
   "outputs": [
    {
     "name": "stderr",
     "output_type": "stream",
     "text": [
      "  0%|          | 0/1683 [00:00<?, ?it/s]"
     ]
    },
    {
     "name": "stderr",
     "output_type": "stream",
     "text": [
      "100%|██████████| 1683/1683 [06:14<00:00,  4.49it/s]\n"
     ]
    }
   ],
   "source": [
    "# Ensure we don't clobber anything\n",
    "# if False:\n",
    "if True:\n",
    "    # First, ensure target paths are empty\n",
    "    # paths = [os.path.join(DD, f) for f in [\"inputs\", \"activations\", \"features\", \"logits\", \"activations_r\"]]\n",
    "    # paths = [os.path.join(DD, f) for f in [\"activations\", \"features\"]]\n",
    "    paths = [os.path.join(DD, f) for f in [\"features\"]]\n",
    "    for path in paths:\n",
    "        if os.path.exists(path):\n",
    "            for f in os.listdir(path):\n",
    "                os.remove(os.path.join(path, f))\n",
    "            os.rmdir(path)\n",
    "        os.mkdir(path)\n",
    "\n",
    "    for i, batch in enumerate(tqdm(data.split(BATCH_SIZE))):\n",
    "        # Run model\n",
    "        logits_batch, cache_batch = model.run_with_cache(\n",
    "            batch,\n",
    "        )\n",
    "\n",
    "        # Get activations\n",
    "        activations_batch = cache_batch[\"blocks.0.mlp.hook_post\"]\n",
    "\n",
    "        # Get SAE features, reconstructed activations, reconstructed logits\n",
    "        _, activations_r_batch, features_batch, _, _ = sae(activations_batch)\n",
    "        features_batch = features_batch.to_sparse()\n",
    "\n",
    "        # Save everything\n",
    "        # for x, path in zip([batch, activations_batch, features_batch, logits_batch, activations_r_batch], paths):\n",
    "        # for x, path in zip([activations_batch, features_batch], paths):\n",
    "        for x, path in zip([features_batch], paths):\n",
    "            torch.save(x, os.path.join(path, f\"{i}.pt\"))"
   ]
  },
  {
   "cell_type": "code",
   "execution_count": 12,
   "metadata": {},
   "outputs": [],
   "source": [
    "# Free up some memory\n",
    "try:\n",
    "    del batch, cache_batch, activations_batch, features_batch, logits_batch, activations_r_batch\n",
    "except:\n",
    "    pass"
   ]
  },
  {
   "cell_type": "markdown",
   "metadata": {},
   "source": [
    "## Compute per-feature activations"
   ]
  },
  {
   "cell_type": "code",
   "execution_count": 13,
   "metadata": {},
   "outputs": [
    {
     "name": "stdout",
     "output_type": "stream",
     "text": [
      "Number of features: 16384, number of files: 1683\n"
     ]
    },
    {
     "name": "stderr",
     "output_type": "stream",
     "text": [
      "100%|██████████| 280/280 [04:56<00:00,  1.06s/it]\n",
      "100%|██████████| 280/280 [04:29<00:00,  1.04it/s]\n",
      "100%|██████████| 280/280 [04:14<00:00,  1.10it/s]\n",
      "100%|██████████| 280/280 [04:31<00:00,  1.03it/s]\n",
      "100%|██████████| 280/280 [04:57<00:00,  1.06s/it]\n",
      "100%|██████████| 280/280 [05:32<00:00,  1.19s/it]\n",
      "100%|██████████| 3/3 [00:05<00:00,  1.86s/it]\n"
     ]
    }
   ],
   "source": [
    "import os\n",
    "import torch\n",
    "import pickle\n",
    "from tqdm import tqdm\n",
    "\n",
    "# This is kind of a crazy way to do this, but because of memory constraints I'm just gonna do it...\n",
    "\n",
    "feature_files = os.listdir(os.path.join(DD, \"features\"))\n",
    "feature_dim = torch.load(os.path.join(DD, \"features\", feature_files[0])).shape[-1]\n",
    "n_files = len(feature_files)\n",
    "print(f\"Number of features: {feature_dim}, number of files: {n_files}\")\n",
    "\n",
    "# Split feature_files into chunks, again for memory reasons\n",
    "CHUNKS = 6\n",
    "feature_files = [feature_files[i : i + n_files // CHUNKS] for i in range(0, n_files, n_files // CHUNKS)]\n",
    "\n",
    "# # Create activation_vectors directory\n",
    "# if os.path.exists(os.path.join(DD, \"feature_vectors\")):\n",
    "#     for f in os.listdir(os.path.join(DD, \"feature_vectors\")):\n",
    "#         os.remove(os.path.join(DD, \"feature_vectors\", f))\n",
    "#     os.rmdir(os.path.join(DD, \"feature_vectors\"))\n",
    "# os.mkdir(os.path.join(DD, \"feature_vectors\"))\n",
    "\n",
    "# Accumulate feature vectors in list\n",
    "with torch.no_grad():\n",
    "    for k, files_batch in enumerate(feature_files):\n",
    "        all_features = [[] for _ in range(feature_dim)]\n",
    "        for i, file in enumerate(tqdm(files_batch)):\n",
    "            feature = torch.load(os.path.join(DD, \"features\", file)).to_dense()  # .cpu()\n",
    "            for j in range(feature_dim):\n",
    "                all_features[j].append(feature[:, :, j].to_sparse())\n",
    "\n",
    "        # Basic save\n",
    "        with open(os.path.join(DD, f\"all_features_vectors_{k}.pkl\"), \"wb\") as f:\n",
    "            pickle.dump(all_features, f)\n",
    "\n",
    "        # Save feature vectors individually\n",
    "        for j in range(feature_dim):\n",
    "            torch.save(torch.cat(all_features[j]), os.path.join(DD, \"feature_vectors\", f\"{j}_{k}.pt\"))\n",
    "\n",
    "        # Free up some memory\n",
    "        try:\n",
    "            del all_features\n",
    "        except:\n",
    "            pass"
   ]
  },
  {
   "cell_type": "code",
   "execution_count": 17,
   "metadata": {},
   "outputs": [
    {
     "name": "stderr",
     "output_type": "stream",
     "text": [
      "  0%|          | 0/16384 [00:00<?, ?it/s]"
     ]
    },
    {
     "name": "stderr",
     "output_type": "stream",
     "text": [
      "100%|██████████| 16384/16384 [08:33<00:00, 31.89it/s] \n"
     ]
    }
   ],
   "source": [
    "# Merge feature vectors\n",
    "os.mkdir(os.path.join(DD, \"feature_vectors_merged\"))\n",
    "\n",
    "for i in tqdm(range(feature_dim)):\n",
    "    feature_merged = torch.cat(\n",
    "        [torch.load(os.path.join(DD, \"feature_vectors\", f\"{i}_{k}.pt\")) for k in range(CHUNKS + 1)]\n",
    "    )\n",
    "    torch.save(feature_merged, os.path.join(DD, \"feature_vectors_merged\", f\"{i}_full.pt\"))"
   ]
  },
  {
   "cell_type": "code",
   "execution_count": 19,
   "metadata": {},
   "outputs": [
    {
     "name": "stdout",
     "output_type": "stream",
     "text": [
      "torch.Size([215402, 128])\n",
      "215402\n"
     ]
    }
   ],
   "source": [
    "# Verify that shapes are correct\n",
    "\n",
    "feature_merged = torch.load(os.path.join(DD, \"feature_vectors_merged\", \"0_full.pt\"))\n",
    "print(feature_merged.shape)  # Should be (n_samples, n_tokens)\n",
    "print(len(data))"
   ]
  },
  {
   "cell_type": "markdown",
   "metadata": {},
   "source": [
    "## Get (feature, token) pairs; audit for predictive accuracy"
   ]
  },
  {
   "cell_type": "code",
   "execution_count": 109,
   "metadata": {},
   "outputs": [
    {
     "name": "stderr",
     "output_type": "stream",
     "text": [
      "  0%|          | 0/16384 [00:00<?, ?it/s]"
     ]
    },
    {
     "name": "stderr",
     "output_type": "stream",
     "text": [
      "100%|██████████| 16384/16384 [03:34<00:00, 76.25it/s] \n"
     ]
    },
    {
     "data": {
      "text/html": [
       "<div>\n",
       "<style scoped>\n",
       "    .dataframe tbody tr th:only-of-type {\n",
       "        vertical-align: middle;\n",
       "    }\n",
       "\n",
       "    .dataframe tbody tr th {\n",
       "        vertical-align: top;\n",
       "    }\n",
       "\n",
       "    .dataframe thead th {\n",
       "        text-align: right;\n",
       "    }\n",
       "</style>\n",
       "<table border=\"1\" class=\"dataframe\">\n",
       "  <thead>\n",
       "    <tr style=\"text-align: right;\">\n",
       "      <th></th>\n",
       "      <th>token_idx</th>\n",
       "      <th>token_str</th>\n",
       "      <th>count</th>\n",
       "    </tr>\n",
       "  </thead>\n",
       "  <tbody>\n",
       "    <tr>\n",
       "      <th>0</th>\n",
       "      <td>248</td>\n",
       "      <td>a</td>\n",
       "      <td>19</td>\n",
       "    </tr>\n",
       "    <tr>\n",
       "      <th>1</th>\n",
       "      <td>191</td>\n",
       "      <td>\\r</td>\n",
       "      <td>14</td>\n",
       "    </tr>\n",
       "    <tr>\n",
       "      <th>2</th>\n",
       "      <td>191</td>\n",
       "      <td>\\r</td>\n",
       "      <td>9</td>\n",
       "    </tr>\n",
       "    <tr>\n",
       "      <th>3</th>\n",
       "      <td>17371</td>\n",
       "      <td>utf</td>\n",
       "      <td>100</td>\n",
       "    </tr>\n",
       "    <tr>\n",
       "      <th>4</th>\n",
       "      <td>191</td>\n",
       "      <td>\\r</td>\n",
       "      <td>12</td>\n",
       "    </tr>\n",
       "    <tr>\n",
       "      <th>...</th>\n",
       "      <td>...</td>\n",
       "      <td>...</td>\n",
       "      <td>...</td>\n",
       "    </tr>\n",
       "    <tr>\n",
       "      <th>16379</th>\n",
       "      <td>191</td>\n",
       "      <td>\\r</td>\n",
       "      <td>13</td>\n",
       "    </tr>\n",
       "    <tr>\n",
       "      <th>16380</th>\n",
       "      <td>19</td>\n",
       "      <td>1</td>\n",
       "      <td>100</td>\n",
       "    </tr>\n",
       "    <tr>\n",
       "      <th>16381</th>\n",
       "      <td>286</td>\n",
       "      <td>and</td>\n",
       "      <td>100</td>\n",
       "    </tr>\n",
       "    <tr>\n",
       "      <th>16382</th>\n",
       "      <td>8461</td>\n",
       "      <td>spr</td>\n",
       "      <td>59</td>\n",
       "    </tr>\n",
       "    <tr>\n",
       "      <th>16383</th>\n",
       "      <td>191</td>\n",
       "      <td>\\r</td>\n",
       "      <td>9</td>\n",
       "    </tr>\n",
       "  </tbody>\n",
       "</table>\n",
       "<p>16384 rows × 3 columns</p>\n",
       "</div>"
      ],
      "text/plain": [
       "      token_idx token_str count\n",
       "0           248         a    19\n",
       "1           191        \\r    14\n",
       "2           191        \\r     9\n",
       "3         17371       utf   100\n",
       "4           191        \\r    12\n",
       "...         ...       ...   ...\n",
       "16379       191        \\r    13\n",
       "16380        19         1   100\n",
       "16381       286       and   100\n",
       "16382      8461       spr    59\n",
       "16383       191        \\r     9\n",
       "\n",
       "[16384 rows x 3 columns]"
      ]
     },
     "execution_count": 109,
     "metadata": {},
     "output_type": "execute_result"
    }
   ],
   "source": [
    "# Find (activation, feature pairs)\n",
    "\n",
    "# Find the top K activations for each feature\n",
    "# Count tokens in top-K activating examples\n",
    "\n",
    "TOP_K = 100\n",
    "feature_top_tokens = pd.DataFrame(index=range(feature_dim), columns=[\"token_idx\", \"token_str\", \"count\"])\n",
    "\n",
    "for i in tqdm(range(feature_dim)):\n",
    "    # Load feature as an (n_samples, n_tokens) matrix\n",
    "    feature = torch.load(os.path.join(DD, \"feature_vectors_merged\", f\"{i}_full.pt\")).to_dense()\n",
    "\n",
    "    # Get top K activations using a flat view into the feature\n",
    "    feature_flat = feature.view(-1)\n",
    "    topk_vals, indices_flat = torch.topk(feature_flat, TOP_K, largest=True)\n",
    "\n",
    "    # Reshape indices to 2-D\n",
    "    n, m = feature.shape\n",
    "    r, c = indices_flat // m, indices_flat % m\n",
    "    idx = torch.stack([r, c], dim=1)\n",
    "\n",
    "    # What are the tokens?\n",
    "    feature_tokens = data[idx[:, 0], idx[:, 1]]\n",
    "    token_counts = torch.bincount(feature_tokens, minlength=len(model.tokenizer))\n",
    "    top_token = torch.argmax(token_counts).item()\n",
    "\n",
    "    # Save to dataframe\n",
    "    feature_top_tokens.loc[i] = [top_token, model.to_single_str_token(top_token), token_counts[top_token].item()]\n",
    "\n",
    "feature_top_tokens.to_csv(os.path.join(DD, \"feature_top_tokens.csv\"))\n",
    "feature_top_tokens"
   ]
  },
  {
   "cell_type": "code",
   "execution_count": 143,
   "metadata": {},
   "outputs": [
    {
     "name": "stderr",
     "output_type": "stream",
     "text": [
      "  0%|          | 0/16384 [00:00<?, ?it/s]"
     ]
    },
    {
     "name": "stderr",
     "output_type": "stream",
     "text": [
      "100%|██████████| 16384/16384 [03:51<00:00, 70.88it/s] \n"
     ]
    },
    {
     "data": {
      "text/html": [
       "<div>\n",
       "<style scoped>\n",
       "    .dataframe tbody tr th:only-of-type {\n",
       "        vertical-align: middle;\n",
       "    }\n",
       "\n",
       "    .dataframe tbody tr th {\n",
       "        vertical-align: top;\n",
       "    }\n",
       "\n",
       "    .dataframe thead th {\n",
       "        text-align: right;\n",
       "    }\n",
       "</style>\n",
       "<table border=\"1\" class=\"dataframe\">\n",
       "  <thead>\n",
       "    <tr style=\"text-align: right;\">\n",
       "      <th></th>\n",
       "      <th>top_token</th>\n",
       "      <th>precision</th>\n",
       "      <th>recall</th>\n",
       "      <th>f1</th>\n",
       "    </tr>\n",
       "  </thead>\n",
       "  <tbody>\n",
       "    <tr>\n",
       "      <th>0</th>\n",
       "      <td>248</td>\n",
       "      <td>0.129994</td>\n",
       "      <td>0.001661</td>\n",
       "      <td>0.003281</td>\n",
       "    </tr>\n",
       "    <tr>\n",
       "      <th>1</th>\n",
       "      <td>191</td>\n",
       "      <td>0.031985</td>\n",
       "      <td>0.008611</td>\n",
       "      <td>0.013569</td>\n",
       "    </tr>\n",
       "    <tr>\n",
       "      <th>2</th>\n",
       "      <td>191</td>\n",
       "      <td>0.020802</td>\n",
       "      <td>0.007262</td>\n",
       "      <td>0.010766</td>\n",
       "    </tr>\n",
       "    <tr>\n",
       "      <th>3</th>\n",
       "      <td>17371</td>\n",
       "      <td>0.013031</td>\n",
       "      <td>1.0</td>\n",
       "      <td>0.025727</td>\n",
       "    </tr>\n",
       "    <tr>\n",
       "      <th>4</th>\n",
       "      <td>191</td>\n",
       "      <td>0.031208</td>\n",
       "      <td>0.004876</td>\n",
       "      <td>0.008434</td>\n",
       "    </tr>\n",
       "    <tr>\n",
       "      <th>...</th>\n",
       "      <td>...</td>\n",
       "      <td>...</td>\n",
       "      <td>...</td>\n",
       "      <td>...</td>\n",
       "    </tr>\n",
       "    <tr>\n",
       "      <th>16379</th>\n",
       "      <td>191</td>\n",
       "      <td>0.022464</td>\n",
       "      <td>0.006432</td>\n",
       "      <td>0.010001</td>\n",
       "    </tr>\n",
       "    <tr>\n",
       "      <th>16380</th>\n",
       "      <td>19</td>\n",
       "      <td>0.662478</td>\n",
       "      <td>0.600608</td>\n",
       "      <td>0.630028</td>\n",
       "    </tr>\n",
       "    <tr>\n",
       "      <th>16381</th>\n",
       "      <td>286</td>\n",
       "      <td>0.435758</td>\n",
       "      <td>0.3408</td>\n",
       "      <td>0.382474</td>\n",
       "    </tr>\n",
       "    <tr>\n",
       "      <th>16382</th>\n",
       "      <td>8461</td>\n",
       "      <td>0.003102</td>\n",
       "      <td>1.0</td>\n",
       "      <td>0.006184</td>\n",
       "    </tr>\n",
       "    <tr>\n",
       "      <th>16383</th>\n",
       "      <td>191</td>\n",
       "      <td>0.021246</td>\n",
       "      <td>0.006121</td>\n",
       "      <td>0.009504</td>\n",
       "    </tr>\n",
       "  </tbody>\n",
       "</table>\n",
       "<p>16384 rows × 4 columns</p>\n",
       "</div>"
      ],
      "text/plain": [
       "      top_token precision    recall        f1\n",
       "0           248  0.129994  0.001661  0.003281\n",
       "1           191  0.031985  0.008611  0.013569\n",
       "2           191  0.020802  0.007262  0.010766\n",
       "3         17371  0.013031       1.0  0.025727\n",
       "4           191  0.031208  0.004876  0.008434\n",
       "...         ...       ...       ...       ...\n",
       "16379       191  0.022464  0.006432  0.010001\n",
       "16380        19  0.662478  0.600608  0.630028\n",
       "16381       286  0.435758    0.3408  0.382474\n",
       "16382      8461  0.003102       1.0  0.006184\n",
       "16383       191  0.021246  0.006121  0.009504\n",
       "\n",
       "[16384 rows x 4 columns]"
      ]
     },
     "execution_count": 143,
     "metadata": {},
     "output_type": "execute_result"
    }
   ],
   "source": [
    "# Get precision, recall, F1 for naive prediction: top token -> feature fires\n",
    "\n",
    "top_token_audit = pd.DataFrame(index=range(feature_dim), columns=[\"top_token\", \"precision\", \"recall\", \"f1\"])\n",
    "\n",
    "for i in tqdm(range(feature_dim)):\n",
    "    top_token = feature_top_tokens.loc[i, \"token_idx\"]\n",
    "    feature = torch.load(os.path.join(DD, \"feature_vectors_merged\", f\"{i}_full.pt\")).to_dense()\n",
    "\n",
    "    # n_correct = 0\n",
    "    # for j in range(len(data)):\n",
    "    #     for k in range(len(data[j])):\n",
    "    #         if (data[j, k] == top_token and feature[j, k] > 0) or (data[j, k] != top_token and feature[j, k] == 0):\n",
    "    #             n_correct += 1\n",
    "\n",
    "    bool1 = data == top_token\n",
    "    bool2 = feature > 0\n",
    "\n",
    "    # n_correct = ((bool1 & bool2) | (~bool1 & ~bool2)).sum().item()\n",
    "    tp = (bool1 & bool2).sum().item()\n",
    "    fp = (~bool1 & bool2).sum().item()\n",
    "    fn = (bool1 & ~bool2).sum().item()\n",
    "    tn = (~bool1 & ~bool2).sum().item()\n",
    "\n",
    "    p = tp / (tp + fp)\n",
    "    r = tp / (tp + fn)\n",
    "    f1 = 2 * p * r / (p + r)\n",
    "\n",
    "    top_token_audit.loc[i] = [top_token, p, r, f1]\n",
    "\n",
    "top_token_audit.to_csv(os.path.join(DD, \"top_token_audit.csv\"))\n",
    "top_token_audit"
   ]
  },
  {
   "cell_type": "code",
   "execution_count": 148,
   "metadata": {},
   "outputs": [],
   "source": [
    "pd.merge(feature_top_tokens, top_token_audit, left_index=True, right_index=True).drop(\n",
    "    columns=[\"top_token\"]\n",
    ").sort_values(\"f1\", ascending=False).to_csv(os.path.join(DD, \"top_token_audit_merged.csv\"))"
   ]
  }
 ],
 "metadata": {
  "kernelspec": {
   "display_name": "sprint",
   "language": "python",
   "name": "python3"
  },
  "language_info": {
   "codemirror_mode": {
    "name": "ipython",
    "version": 3
   },
   "file_extension": ".py",
   "mimetype": "text/x-python",
   "name": "python",
   "nbconvert_exporter": "python",
   "pygments_lexer": "ipython3",
   "version": "3.10.0"
  }
 },
 "nbformat": 4,
 "nbformat_minor": 2
}
