{
 "cells": [
  {
   "cell_type": "markdown",
   "metadata": {},
   "source": [
    "# Feature search\n",
    "\n",
    "We are looking for a feature that has the following properites:\n",
    "* Predicted by presence of a single token with high precision and recall\n",
    "* Minimal number of attention heads contributing to SAE feature\n",
    "\n",
    "This is the plan:\n",
    "* Let `DD := data/processed/gelu_1l_audit`\n",
    "* Compute and store activations, logits, SAE features for all data points\n",
    "    * Store in `DD/activations`\n",
    "* Find (feature, token) pairs:\n",
    "    * Take top K activations for each SAE feature\n",
    "    * Take the top token in the dataset for these examples\n",
    "    * Store in `DD/token_feature_pairs`\n",
    "* Evaluate precision and recall of `FEATURE IF TOKEN` predictor\n",
    "    * Store in `DD/precision_recall.tsv`"
   ]
  },
  {
   "cell_type": "markdown",
   "metadata": {},
   "source": []
  },
  {
   "cell_type": "code",
   "execution_count": null,
   "metadata": {},
   "outputs": [],
   "source": [
    "# Load model, data, and SAE\n",
    "\n"
   ]
  }
 ],
 "metadata": {
  "kernelspec": {
   "display_name": "sprint",
   "language": "python",
   "name": "python3"
  },
  "language_info": {
   "name": "python",
   "version": "3.10.0"
  }
 },
 "nbformat": 4,
 "nbformat_minor": 2
}
