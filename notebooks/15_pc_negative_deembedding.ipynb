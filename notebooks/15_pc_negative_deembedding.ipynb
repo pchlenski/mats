{
 "cells": [
  {
   "cell_type": "markdown",
   "metadata": {},
   "source": [
    "# Negative deembedding\n",
    "> Are very negative scores helpful?"
   ]
  },
  {
   "cell_type": "code",
   "execution_count": 1,
   "metadata": {},
   "outputs": [],
   "source": [
    "%load_ext autoreload\n",
    "%autoreload 2"
   ]
  },
  {
   "cell_type": "code",
   "execution_count": 2,
   "metadata": {},
   "outputs": [],
   "source": [
    "import torch\n",
    "\n",
    "import pandas as pd\n",
    "import matplotlib.pyplot as plt\n",
    "\n",
    "from transformer_lens import utils\n",
    "\n",
    "from mats.loading import load_all\n",
    "from mats.linearization import analyze_linearized_feature\n",
    "from mats.visualization import visualize_topk"
   ]
  },
  {
   "cell_type": "code",
   "execution_count": 35,
   "metadata": {},
   "outputs": [],
   "source": [
    "FEATURE_ID, SAMPLE_IDX, TOKEN_IDX = 4542, 63202, 73  # it is\n",
    "# FEATURE_ID, SAMPLE_IDX, TOKEN_IDX = 8, 38, 73 # ')\n",
    "# FEATURE_ID, SAMPLE_IDX, TOKEN_IDX = 4958, 7030, 98  # is (theology)\n",
    "\n",
    "# visualize_topk(FEATURE_ID, 10, model, data)"
   ]
  },
  {
   "cell_type": "code",
   "execution_count": 23,
   "metadata": {},
   "outputs": [
    {
     "name": "stdout",
     "output_type": "stream",
     "text": [
      "Loaded pretrained model gelu-1l into HookedTransformer\n",
      "Moving model to device:  cuda\n",
      "Model device: cuda:0\n",
      "Tokens shape: torch.Size([215402, 128]), dtype: torch.int64, device: cuda:0\n",
      "Loading run1 from HuggingFace at 25\n",
      "{'batch_size': 4096,\n",
      " 'beta1': 0.9,\n",
      " 'beta2': 0.99,\n",
      " 'buffer_batches': 12288,\n",
      " 'buffer_mult': 384,\n",
      " 'buffer_size': 1572864,\n",
      " 'd_mlp': 2048,\n",
      " 'dict_mult': 8,\n",
      " 'enc_dtype': 'fp32',\n",
      " 'l1_coeff': 0.0003,\n",
      " 'lr': 0.0001,\n",
      " 'model_batch_size': 512,\n",
      " 'num_tokens': 2000000000,\n",
      " 'seed': 52,\n",
      " 'seq_len': 128}\n",
      "Encoder device: cuda:0\n"
     ]
    }
   ],
   "source": [
    "model, data, sae = load_all(fold_ln=True, half_precision=False)"
   ]
  },
  {
   "cell_type": "code",
   "execution_count": 36,
   "metadata": {},
   "outputs": [],
   "source": [
    "result = analyze_linearized_feature(\n",
    "    feature_idx=FEATURE_ID,\n",
    "    sample_idx=SAMPLE_IDX,\n",
    "    token_idx=TOKEN_IDX,\n",
    "    layer=0,\n",
    "    head=0,\n",
    "    model=model,\n",
    "    encoder=sae,\n",
    "    data=data,\n",
    "    use_ln=False,\n",
    "    mlp_out=False,\n",
    ")"
   ]
  },
  {
   "cell_type": "code",
   "execution_count": 37,
   "metadata": {},
   "outputs": [
    {
     "data": {
      "image/png": "[encoded data removed]",
      "text/plain": [
       "<Figure size 1600x200 with 1 Axes>"
      ]
     },
     "metadata": {},
     "output_type": "display_data"
    }
   ],
   "source": [
    "# model.tokenizer.decode(data[SAMPLE_IDX])\n",
    "\n",
    "acts = result[\"sae activations\"].detach().cpu().numpy()[None, TOKEN_IDX - 10 : TOKEN_IDX + 10, FEATURE_ID]\n",
    "plt.matshow(acts)\n",
    "for i in range(-10, 10):\n",
    "    col = \"white\" if acts[0, i + 10] == 0 else \"black\"\n",
    "    plt.text(i + 10, 0, model.tokenizer.decode(data[SAMPLE_IDX][i + TOKEN_IDX]), color=col)"
   ]
  },
  {
   "cell_type": "code",
   "execution_count": 38,
   "metadata": {},
   "outputs": [
    {
     "name": "stdout",
     "output_type": "stream",
     "text": [
      "torch.Size([1, 128, 2048])\n",
      "True\n"
     ]
    }
   ],
   "source": [
    "out, cache = model.run_with_cache(\n",
    "    data[SAMPLE_IDX],\n",
    "    names_filter=[utils.get_act_name(\"post\", 0), utils.get_act_name(\"resid_mid\", 0)],\n",
    ")\n",
    "post = cache[utils.get_act_name(\"post\", 0)]\n",
    "print(post.shape)\n",
    "\n",
    "_, _, acts, _, _ = sae(post)\n",
    "print(torch.allclose(acts, result[\"sae activations\"]))"
   ]
  },
  {
   "cell_type": "code",
   "execution_count": 39,
   "metadata": {},
   "outputs": [
    {
     "name": "stdout",
     "output_type": "stream",
     "text": [
      "False\n"
     ]
    }
   ],
   "source": [
    "from mats.linearization import ln2_mlp_until_post, get_tangent_plane_at_point\n",
    "\n",
    "mid = cache[utils.get_act_name(\"resid_mid\", 0)]\n",
    "feature_mid = get_tangent_plane_at_point(\n",
    "    mid[0, TOKEN_IDX][None, None, :],\n",
    "    lambda x: ln2_mlp_until_post(x, model.blocks[0].ln2, model.blocks[0].mlp, use_ln=True),\n",
    "    sae.W_enc[:, FEATURE_ID],\n",
    ")\n",
    "print(torch.allclose(feature_mid, result[\"mid\"]))"
   ]
  },
  {
   "cell_type": "code",
   "execution_count": 40,
   "metadata": {},
   "outputs": [],
   "source": [
    "unembed = model.W_E @ result[\"mid\"]"
   ]
  },
  {
   "cell_type": "code",
   "execution_count": 41,
   "metadata": {},
   "outputs": [],
   "source": [
    "unembed_df = pd.DataFrame(unembed.detach().cpu().numpy(), columns=[\"unembed score\"])\n",
    "unembed_df.index = [model.tokenizer.decode([t]) for t in unembed_df.index]"
   ]
  },
  {
   "cell_type": "code",
   "execution_count": 42,
   "metadata": {},
   "outputs": [
    {
     "data": {
      "text/html": [
       "<div>\n",
       "<style scoped>\n",
       "    .dataframe tbody tr th:only-of-type {\n",
       "        vertical-align: middle;\n",
       "    }\n",
       "\n",
       "    .dataframe tbody tr th {\n",
       "        vertical-align: top;\n",
       "    }\n",
       "\n",
       "    .dataframe thead th {\n",
       "        text-align: right;\n",
       "    }\n",
       "</style>\n",
       "<table border=\"1\" class=\"dataframe\">\n",
       "  <thead>\n",
       "    <tr style=\"text-align: right;\">\n",
       "      <th></th>\n",
       "      <th>unembed score</th>\n",
       "    </tr>\n",
       "  </thead>\n",
       "  <tbody>\n",
       "    <tr>\n",
       "      <th>romb</th>\n",
       "      <td>-1.369339</td>\n",
       "    </tr>\n",
       "    <tr>\n",
       "      <th>McD</th>\n",
       "      <td>-1.367208</td>\n",
       "    </tr>\n",
       "    <tr>\n",
       "      <th>最</th>\n",
       "      <td>-1.264289</td>\n",
       "    </tr>\n",
       "    <tr>\n",
       "      <th>发</th>\n",
       "      <td>-1.263072</td>\n",
       "    </tr>\n",
       "    <tr>\n",
       "      <th>�</th>\n",
       "      <td>-1.244347</td>\n",
       "    </tr>\n",
       "    <tr>\n",
       "      <th>...</th>\n",
       "      <td>...</td>\n",
       "    </tr>\n",
       "    <tr>\n",
       "      <th>was</th>\n",
       "      <td>1.030869</td>\n",
       "    </tr>\n",
       "    <tr>\n",
       "      <th>'re</th>\n",
       "      <td>1.037790</td>\n",
       "    </tr>\n",
       "    <tr>\n",
       "      <th>6</th>\n",
       "      <td>1.086577</td>\n",
       "    </tr>\n",
       "    <tr>\n",
       "      <th>are</th>\n",
       "      <td>1.392518</td>\n",
       "    </tr>\n",
       "    <tr>\n",
       "      <th>is</th>\n",
       "      <td>1.693570</td>\n",
       "    </tr>\n",
       "  </tbody>\n",
       "</table>\n",
       "<p>48262 rows × 1 columns</p>\n",
       "</div>"
      ],
      "text/plain": [
       "      unembed score\n",
       "romb      -1.369339\n",
       " McD      -1.367208\n",
       "最         -1.264289\n",
       "发         -1.263072\n",
       "�         -1.244347\n",
       "...             ...\n",
       " was       1.030869\n",
       "'re        1.037790\n",
       "6          1.086577\n",
       " are       1.392518\n",
       " is        1.693570\n",
       "\n",
       "[48262 rows x 1 columns]"
      ]
     },
     "execution_count": 42,
     "metadata": {},
     "output_type": "execute_result"
    }
   ],
   "source": [
    "unembed_df.sort_values(by=\"unembed score\")"
   ]
  },
  {
   "cell_type": "code",
   "execution_count": null,
   "metadata": {},
   "outputs": [
    {
     "data": {
      "text/plain": [
       "(tensor([1.2822, 1.1973, 1.1836, 1.1777, 1.1465], device='cuda:0',\n",
       "        dtype=torch.float16, grad_fn=<TopkBackward0>),\n",
       " [' Cly', ' noct', '�', ' Ble', ' Cec'])"
      ]
     },
     "execution_count": 165,
     "metadata": {},
     "output_type": "execute_result"
    }
   ],
   "source": [
    "from mats.linearization import get_top_tokens\n",
    "\n",
    "get_top_tokens(model.tokenizer, model.W_E @ feature_mid.reshape(-1))"
   ]
  },
  {
   "cell_type": "code",
   "execution_count": null,
   "metadata": {},
   "outputs": [
    {
     "data": {
      "text/plain": [
       "[' Cly', ' noct', '�', ' Ble', ' Cec', ' enthus', ' ó', '�', ' diffe', ' Ir']"
      ]
     },
     "execution_count": 113,
     "metadata": {},
     "output_type": "execute_result"
    }
   ],
   "source": [
    "result[\"token strings\"]"
   ]
  },
  {
   "cell_type": "code",
   "execution_count": null,
   "metadata": {},
   "outputs": [
    {
     "data": {
      "text/html": [
       "<div>\n",
       "<style scoped>\n",
       "    .dataframe tbody tr th:only-of-type {\n",
       "        vertical-align: middle;\n",
       "    }\n",
       "\n",
       "    .dataframe tbody tr th {\n",
       "        vertical-align: top;\n",
       "    }\n",
       "\n",
       "    .dataframe thead th {\n",
       "        text-align: right;\n",
       "    }\n",
       "</style>\n",
       "<table border=\"1\" class=\"dataframe\">\n",
       "  <thead>\n",
       "    <tr style=\"text-align: right;\">\n",
       "      <th></th>\n",
       "      <th>unembed score</th>\n",
       "    </tr>\n",
       "  </thead>\n",
       "  <tbody>\n",
       "    <tr>\n",
       "      <th>&lt;|EOS|&gt;</th>\n",
       "      <td>-0.043396</td>\n",
       "    </tr>\n",
       "    <tr>\n",
       "      <th>&lt;|BOS|&gt;</th>\n",
       "      <td>-0.217407</td>\n",
       "    </tr>\n",
       "    <tr>\n",
       "      <th>&lt;|PAD|&gt;</th>\n",
       "      <td>0.002090</td>\n",
       "    </tr>\n",
       "    <tr>\n",
       "      <th>!</th>\n",
       "      <td>-0.422363</td>\n",
       "    </tr>\n",
       "    <tr>\n",
       "      <th>\"</th>\n",
       "      <td>-1.068359</td>\n",
       "    </tr>\n",
       "    <tr>\n",
       "      <th>...</th>\n",
       "      <td>...</td>\n",
       "    </tr>\n",
       "    <tr>\n",
       "      <th></th>\n",
       "      <td>0.015610</td>\n",
       "    </tr>\n",
       "    <tr>\n",
       "      <th></th>\n",
       "      <td>0.092957</td>\n",
       "    </tr>\n",
       "    <tr>\n",
       "      <th></th>\n",
       "      <td>0.024734</td>\n",
       "    </tr>\n",
       "    <tr>\n",
       "      <th></th>\n",
       "      <td>0.009735</td>\n",
       "    </tr>\n",
       "    <tr>\n",
       "      <th></th>\n",
       "      <td>0.016571</td>\n",
       "    </tr>\n",
       "  </tbody>\n",
       "</table>\n",
       "<p>48262 rows × 1 columns</p>\n",
       "</div>"
      ],
      "text/plain": [
       "         unembed score\n",
       "<|EOS|>      -0.043396\n",
       "<|BOS|>      -0.217407\n",
       "<|PAD|>       0.002090\n",
       "!            -0.422363\n",
       "\"            -1.068359\n",
       "...                ...\n",
       "              0.015610\n",
       "              0.092957\n",
       "              0.024734\n",
       "              0.009735\n",
       "              0.016571\n",
       "\n",
       "[48262 rows x 1 columns]"
      ]
     },
     "execution_count": 68,
     "metadata": {},
     "output_type": "execute_result"
    }
   ],
   "source": [
    "unembed_df"
   ]
  },
  {
   "cell_type": "code",
   "execution_count": 21,
   "metadata": {},
   "outputs": [],
   "source": [
    "# Try again\n",
    "\n",
    "\n",
    "def get_tangent_plane_at_point(x_0_new, f, range_normal):\n",
    "    # now, find the tangent hyperplane at x_0_new\n",
    "    x_0_new.requires_grad_(True)\n",
    "    g = lambda x: f(x) @ range_normal\n",
    "    grad = torch.autograd.grad(g(x_0_new), x_0_new)\n",
    "    return grad[0]\n",
    "\n",
    "\n",
    "def ln2_mlp_until_post(x, ln, mlp, use_ln=True):\n",
    "    if use_ln:\n",
    "        x = ln(x)\n",
    "    x = x @ mlp.W_in + mlp.b_in\n",
    "    x = mlp.act_fn(x)\n",
    "    return x\n",
    "\n",
    "\n",
    "def get_feature_mid(all_tokens, feature_example_idx, feature_token_idx, feature_post, use_ln=True):\n",
    "    with torch.no_grad():\n",
    "        _, cache = model.run_with_cache(\n",
    "            all_tokens[feature_example_idx], stop_at_layer=1, names_filter=[utils.get_act_name(\"resid_mid\", 0)]\n",
    "        )\n",
    "    mid_acts = cache[utils.get_act_name(\"resid_mid\", 0)]\n",
    "    x_mid = mid_acts[0, feature_token_idx][None, None, :]\n",
    "    feature_mid = get_tangent_plane_at_point(\n",
    "        x_mid, lambda x: ln2_mlp_until_post(x, model.blocks[0].ln2, model.blocks[0].mlp, use_ln=use_ln), feature_post\n",
    "    )[0, 0]\n",
    "    return feature_mid"
   ]
  },
  {
   "cell_type": "code",
   "execution_count": 22,
   "metadata": {},
   "outputs": [
    {
     "data": {
      "text/html": [
       "<div>\n",
       "<style scoped>\n",
       "    .dataframe tbody tr th:only-of-type {\n",
       "        vertical-align: middle;\n",
       "    }\n",
       "\n",
       "    .dataframe tbody tr th {\n",
       "        vertical-align: top;\n",
       "    }\n",
       "\n",
       "    .dataframe thead th {\n",
       "        text-align: right;\n",
       "    }\n",
       "</style>\n",
       "<table border=\"1\" class=\"dataframe\">\n",
       "  <thead>\n",
       "    <tr style=\"text-align: right;\">\n",
       "      <th></th>\n",
       "      <th>unembed score</th>\n",
       "    </tr>\n",
       "  </thead>\n",
       "  <tbody>\n",
       "    <tr>\n",
       "      <th>.''</th>\n",
       "      <td>-0.261610</td>\n",
       "    </tr>\n",
       "    <tr>\n",
       "      <th>scheduled</th>\n",
       "      <td>-0.256904</td>\n",
       "    </tr>\n",
       "    <tr>\n",
       "      <th>)!</th>\n",
       "      <td>-0.231503</td>\n",
       "    </tr>\n",
       "    <tr>\n",
       "      <th>calling</th>\n",
       "      <td>-0.231289</td>\n",
       "    </tr>\n",
       "    <tr>\n",
       "      <th>authorized</th>\n",
       "      <td>-0.231017</td>\n",
       "    </tr>\n",
       "    <tr>\n",
       "      <th>...</th>\n",
       "      <td>...</td>\n",
       "    </tr>\n",
       "    <tr>\n",
       "      <th>ARE</th>\n",
       "      <td>0.313082</td>\n",
       "    </tr>\n",
       "    <tr>\n",
       "      <th>'re</th>\n",
       "      <td>0.349898</td>\n",
       "    </tr>\n",
       "    <tr>\n",
       "      <th>was</th>\n",
       "      <td>0.357818</td>\n",
       "    </tr>\n",
       "    <tr>\n",
       "      <th>are</th>\n",
       "      <td>0.418029</td>\n",
       "    </tr>\n",
       "    <tr>\n",
       "      <th>is</th>\n",
       "      <td>0.471230</td>\n",
       "    </tr>\n",
       "  </tbody>\n",
       "</table>\n",
       "<p>48262 rows × 1 columns</p>\n",
       "</div>"
      ],
      "text/plain": [
       "             unembed score\n",
       ".''              -0.261610\n",
       " scheduled       -0.256904\n",
       ")!               -0.231503\n",
       " calling         -0.231289\n",
       " authorized      -0.231017\n",
       "...                    ...\n",
       " ARE              0.313082\n",
       "'re               0.349898\n",
       " was              0.357818\n",
       " are              0.418029\n",
       " is               0.471230\n",
       "\n",
       "[48262 rows x 1 columns]"
      ]
     },
     "execution_count": 22,
     "metadata": {},
     "output_type": "execute_result"
    }
   ],
   "source": [
    "feature_post = sae.W_enc[:, FEATURE_ID]\n",
    "feature_mid = get_feature_mid(data, SAMPLE_IDX, TOKEN_IDX, feature_post, use_ln=False)\n",
    "unembed = model.W_E @ feature_mid\n",
    "\n",
    "unembed_df = pd.DataFrame(unembed.detach().cpu().numpy(), columns=[\"unembed score\"])\n",
    "unembed_df.index = [model.tokenizer.decode([t]) for t in unembed_df.index]\n",
    "unembed_df.sort_values(by=\"unembed score\")"
   ]
  },
  {
   "cell_type": "code",
   "execution_count": 17,
   "metadata": {},
   "outputs": [
    {
     "data": {
      "text/plain": [
       "' societal destinies became inextricably bound is Mostert`s secondary concern. More evident'"
      ]
     },
     "execution_count": 17,
     "metadata": {},
     "output_type": "execute_result"
    }
   ],
   "source": [
    "model.tokenizer.decode(data[SAMPLE_IDX, TOKEN_IDX - 10 : TOKEN_IDX + 10])"
   ]
  },
  {
   "cell_type": "code",
   "execution_count": 45,
   "metadata": {},
   "outputs": [
    {
     "data": {
      "text/plain": [
       "['Pl', 'aton', 'ism']"
      ]
     },
     "execution_count": 45,
     "metadata": {},
     "output_type": "execute_result"
    }
   ],
   "source": [
    "model.tokenizer.tokenize(\"Platonism\")"
   ]
  },
  {
   "cell_type": "code",
   "execution_count": null,
   "metadata": {},
   "outputs": [],
   "source": []
  }
 ],
 "metadata": {
  "kernelspec": {
   "display_name": "mats",
   "language": "python",
   "name": "python3"
  },
  "language_info": {
   "codemirror_mode": {
    "name": "ipython",
    "version": 3
   },
   "file_extension": ".py",
   "mimetype": "text/x-python",
   "name": "python",
   "nbconvert_exporter": "python",
   "pygments_lexer": "ipython3",
   "version": "3.10.0"
  }
 },
 "nbformat": 4,
 "nbformat_minor": 2
}
